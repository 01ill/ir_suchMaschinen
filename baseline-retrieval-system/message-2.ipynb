def run_experiment(config: Config) -> DataFrame:
    print(f"Config: {config}")
    print(f"Device: {device('cuda' if cuda_is_available() else 'cpu')}")

    retrieve_cache_dir = CACHE_DIR / "retrieve" / config.dataset
    retrieve_cache_dir.mkdir(parents=True, exist_ok=True)
    if not (retrieve_cache_dir / "pt_meta.json").exists():
        rmtree(retrieve_cache_dir)

    rerank_mono_t5_cache_dir = (
        CACHE_DIR / "rerank" / "mono-t5" / config.dataset / config.topics_variant
    )
    rerank_mono_t5_cache_dir.mkdir(parents=True, exist_ok=True)
    if not (rerank_mono_t5_cache_dir / "pt_meta.json").exists():
        rmtree(rerank_mono_t5_cache_dir)

    experiment_cache_dir = (
        CACHE_DIR / "experiment6" / config.dataset / config.topics_variant
    )
    experiment_cache_dir.mkdir(parents=True, exist_ok=True)

    # Create ChatNoir retriever.
    retriever = ChatNoirRetrieve(
        api_key=environ["CHATNOIR_API_KEY"],
        index=config.index,
        features=Feature.CONTENTS_PLAIN,
        num_results=100,
        verbose=True,
        retries=20,
        search_method="bm25",
    )

    # Cache retriever.
    retriever = RetrieverCache(
        str(retrieve_cache_dir),
        retriever,
        verbose=True,
    ) >> generic(_add_missing_cols)

    # Re-rankers.
    mono_t5 = Lazy(
        lambda: MonoT5ReRanker(
            model="castorini/monot5-base-msmarco",
            verbose=True,
            batch_size=128,
        )
    )
    mono_t5 = SparseScorerCache(
        str(rerank_mono_t5_cache_dir),
        mono_t5,
        verbose=True,
    )
    duo_t5 = Lazy(
        lambda: DuoT5ReRanker(
            model="castorini/duot5-base-msmarco",
            verbose=True,
            batch_size=128,
        )
    )

    # Data
    dataset = get_dataset(f"irds:{config.dataset}")
    topics = dataset.get_topics(variant=config.topics_variant)
    topics = topics[
        topics["query"] != ""
    ]  # Catch empty queries that cause troubles with ChatNoir.
    qrels = dataset.get_qrels()

    # Specify pipelines.
    pipeline_chatnoir = retriever
    pipeline_mono_t5 = (pipeline_chatnoir % 100 >> mono_t5) ^ pipeline_chatnoir
    pipeline_duo_t5 = (pipeline_mono_t5 % 5 >> duo_t5) ^ pipeline_mono_t5

    # Run experiment
    return Experiment(
        retr_systems=[
            pipeline_chatnoir,
            pipeline_mono_t5,
            pipeline_duo_t5,
        ],
        names=[
            "ChatNoir",
            "ChatNoir+monoT5",
            "ChatNoir+monoT5+duoT5",
        ],
        topics=topics,
        qrels=qrels,
        eval_metrics=[nDCG @ 5],
        verbose=True,
        save_dir=str(experiment_cache_dir),
        save_mode="reuse",
    )