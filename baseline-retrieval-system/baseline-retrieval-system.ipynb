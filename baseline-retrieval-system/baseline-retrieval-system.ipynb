{
 "cells": [
  {
   "cell_type": "markdown",
   "metadata": {},
   "source": [
    "# Information Retrieval Lab WiSe 2024/2025: Baseline Retrieval System\n",
    "\n",
    "This Jupyter notebook serves as a baseline retrieval system that you can improve upon.\n",
    "We use subsets of the MS MARCO datasets to retrieve passages of web documents.\n",
    "We will show you how to create a software submission to TIRA from this notebook.\n",
    "\n",
    "An overview of all corpora that we use in the current course is available at [https://tira.io/datasets?query=ir-lab-wise-2024](https://tira.io/datasets?query=ir-lab-wise-2024). The dataset IDs for loading the datasets are:\n",
    "\n",
    "- `ir-lab-wise-2024/subsampled-ms-marco-deep-learning-20241201-training`: A subsample of the TREC 2019/2020 Deep Learning tracks on the MS MARCO v1 passage dataset. Use this dataset to tune your system(s).\n",
    "- `ir-lab-wise-2024/subsampled-ms-marco-rag-20241202-training` (_work in progress_): A subsample of the TREC 2024 Retrieval-Augmented Generation track on the MS MARCO v2.1 passage dataset. Use this dataset to tune your system(s).\n",
    "- `ir-lab-wise-2024/ms-marco-rag-20241203-test` (work in progress): The test corpus that we have created together in the course, based on the MS MARCO v2.1 passage dataset. We will use this dataset as the test dataset, i.e., evaluation scores become available only after the submission deadline."
   ]
  },
  {
   "cell_type": "markdown",
   "metadata": {},
   "source": [
    "### Step 1: Import libraries\n",
    "\n",
    "We will use [tira](https://tira.io/), an information retrieval shared task platform, and [ir_dataset](https://ir-datasets.com/) for loading the datasets. Subsequently, we will build a retrieval system with [PyTerrier](https://github.com/terrier-org/pyterrier), an open-source search engine framework."
   ]
  },
  {
   "cell_type": "markdown",
   "metadata": {},
   "source": [
    "First, we need to install the required libraries."
   ]
  },
  {
   "cell_type": "code",
   "execution_count": 1,
   "metadata": {},
   "outputs": [
    {
     "name": "stdout",
     "output_type": "stream",
     "text": [
      "Requirement already satisfied: tira in /opt/homebrew/Caskroom/miniconda/base/envs/ir/lib/python3.10/site-packages (0.0.141)\n",
      "Requirement already satisfied: ir-datasets in /opt/homebrew/Caskroom/miniconda/base/envs/ir/lib/python3.10/site-packages (0.5.9)\n",
      "Requirement already satisfied: python-terrier in /opt/homebrew/Caskroom/miniconda/base/envs/ir/lib/python3.10/site-packages (0.12.1)\n",
      "Requirement already satisfied: requests==2.*,>=2.26 in /opt/homebrew/Caskroom/miniconda/base/envs/ir/lib/python3.10/site-packages (from tira) (2.32.3)\n",
      "Requirement already satisfied: docker==7.*,>=7.1.0 in /opt/homebrew/Caskroom/miniconda/base/envs/ir/lib/python3.10/site-packages (from tira) (7.1.0)\n",
      "Requirement already satisfied: numpy==1.* in /opt/homebrew/Caskroom/miniconda/base/envs/ir/lib/python3.10/site-packages (from tira) (1.26.4)\n",
      "Requirement already satisfied: pandas in /opt/homebrew/Caskroom/miniconda/base/envs/ir/lib/python3.10/site-packages (from tira) (2.2.3)\n",
      "Requirement already satisfied: packaging in /opt/homebrew/Caskroom/miniconda/base/envs/ir/lib/python3.10/site-packages (from tira) (24.2)\n",
      "Requirement already satisfied: tqdm in /opt/homebrew/Caskroom/miniconda/base/envs/ir/lib/python3.10/site-packages (from tira) (4.67.1)\n",
      "Requirement already satisfied: urllib3>=1.26.0 in /opt/homebrew/Caskroom/miniconda/base/envs/ir/lib/python3.10/site-packages (from docker==7.*,>=7.1.0->tira) (2.2.3)\n",
      "Requirement already satisfied: charset-normalizer<4,>=2 in /opt/homebrew/Caskroom/miniconda/base/envs/ir/lib/python3.10/site-packages (from requests==2.*,>=2.26->tira) (3.4.0)\n",
      "Requirement already satisfied: idna<4,>=2.5 in /opt/homebrew/Caskroom/miniconda/base/envs/ir/lib/python3.10/site-packages (from requests==2.*,>=2.26->tira) (3.10)\n",
      "Requirement already satisfied: certifi>=2017.4.17 in /opt/homebrew/Caskroom/miniconda/base/envs/ir/lib/python3.10/site-packages (from requests==2.*,>=2.26->tira) (2024.8.30)\n",
      "Requirement already satisfied: beautifulsoup4>=4.4.1 in /opt/homebrew/Caskroom/miniconda/base/envs/ir/lib/python3.10/site-packages (from ir-datasets) (4.12.3)\n",
      "Requirement already satisfied: inscriptis>=2.2.0 in /opt/homebrew/Caskroom/miniconda/base/envs/ir/lib/python3.10/site-packages (from ir-datasets) (2.5.0)\n",
      "Requirement already satisfied: lxml>=4.5.2 in /opt/homebrew/Caskroom/miniconda/base/envs/ir/lib/python3.10/site-packages (from ir-datasets) (5.3.0)\n",
      "Requirement already satisfied: pyyaml>=5.3.1 in /opt/homebrew/Caskroom/miniconda/base/envs/ir/lib/python3.10/site-packages (from ir-datasets) (6.0.2)\n",
      "Requirement already satisfied: trec-car-tools>=2.5.4 in /opt/homebrew/Caskroom/miniconda/base/envs/ir/lib/python3.10/site-packages (from ir-datasets) (2.6)\n",
      "Requirement already satisfied: lz4>=3.1.10 in /opt/homebrew/Caskroom/miniconda/base/envs/ir/lib/python3.10/site-packages (from ir-datasets) (4.3.3)\n",
      "Requirement already satisfied: warc3-wet>=0.2.3 in /opt/homebrew/Caskroom/miniconda/base/envs/ir/lib/python3.10/site-packages (from ir-datasets) (0.2.5)\n",
      "Requirement already satisfied: warc3-wet-clueweb09>=0.2.5 in /opt/homebrew/Caskroom/miniconda/base/envs/ir/lib/python3.10/site-packages (from ir-datasets) (0.2.5)\n",
      "Requirement already satisfied: zlib-state>=0.1.3 in /opt/homebrew/Caskroom/miniconda/base/envs/ir/lib/python3.10/site-packages (from ir-datasets) (0.1.9)\n",
      "Requirement already satisfied: ijson>=3.1.3 in /opt/homebrew/Caskroom/miniconda/base/envs/ir/lib/python3.10/site-packages (from ir-datasets) (3.3.0)\n",
      "Requirement already satisfied: unlzw3>=0.2.1 in /opt/homebrew/Caskroom/miniconda/base/envs/ir/lib/python3.10/site-packages (from ir-datasets) (0.2.2)\n",
      "Requirement already satisfied: more-itertools in /opt/homebrew/Caskroom/miniconda/base/envs/ir/lib/python3.10/site-packages (from python-terrier) (10.5.0)\n",
      "Requirement already satisfied: wget in /opt/homebrew/Caskroom/miniconda/base/envs/ir/lib/python3.10/site-packages (from python-terrier) (3.2)\n",
      "Requirement already satisfied: pyjnius>=1.4.2 in /opt/homebrew/Caskroom/miniconda/base/envs/ir/lib/python3.10/site-packages (from python-terrier) (1.6.1)\n",
      "Requirement already satisfied: deprecated in /opt/homebrew/Caskroom/miniconda/base/envs/ir/lib/python3.10/site-packages (from python-terrier) (1.2.15)\n",
      "Requirement already satisfied: scipy in /opt/homebrew/Caskroom/miniconda/base/envs/ir/lib/python3.10/site-packages (from python-terrier) (1.14.1)\n",
      "Requirement already satisfied: ir-measures>=0.3.1 in /opt/homebrew/Caskroom/miniconda/base/envs/ir/lib/python3.10/site-packages (from python-terrier) (0.3.6)\n",
      "Requirement already satisfied: pytrec-eval-terrier>=0.5.3 in /opt/homebrew/Caskroom/miniconda/base/envs/ir/lib/python3.10/site-packages (from python-terrier) (0.5.6)\n",
      "Requirement already satisfied: jinja2 in /opt/homebrew/Caskroom/miniconda/base/envs/ir/lib/python3.10/site-packages (from python-terrier) (3.1.4)\n",
      "Requirement already satisfied: statsmodels in /opt/homebrew/Caskroom/miniconda/base/envs/ir/lib/python3.10/site-packages (from python-terrier) (0.14.4)\n",
      "Requirement already satisfied: dill in /opt/homebrew/Caskroom/miniconda/base/envs/ir/lib/python3.10/site-packages (from python-terrier) (0.3.9)\n",
      "Requirement already satisfied: joblib in /opt/homebrew/Caskroom/miniconda/base/envs/ir/lib/python3.10/site-packages (from python-terrier) (1.4.2)\n",
      "Requirement already satisfied: chest in /opt/homebrew/Caskroom/miniconda/base/envs/ir/lib/python3.10/site-packages (from python-terrier) (0.2.3)\n",
      "Requirement already satisfied: soupsieve>1.2 in /opt/homebrew/Caskroom/miniconda/base/envs/ir/lib/python3.10/site-packages (from beautifulsoup4>=4.4.1->ir-datasets) (2.6)\n",
      "Requirement already satisfied: cbor>=1.0.0 in /opt/homebrew/Caskroom/miniconda/base/envs/ir/lib/python3.10/site-packages (from trec-car-tools>=2.5.4->ir-datasets) (1.0.0)\n",
      "Requirement already satisfied: heapdict in /opt/homebrew/Caskroom/miniconda/base/envs/ir/lib/python3.10/site-packages (from chest->python-terrier) (1.0.1)\n",
      "Requirement already satisfied: wrapt<2,>=1.10 in /opt/homebrew/Caskroom/miniconda/base/envs/ir/lib/python3.10/site-packages (from deprecated->python-terrier) (1.17.0)\n",
      "Requirement already satisfied: MarkupSafe>=2.0 in /opt/homebrew/Caskroom/miniconda/base/envs/ir/lib/python3.10/site-packages (from jinja2->python-terrier) (3.0.2)\n",
      "Requirement already satisfied: python-dateutil>=2.8.2 in /opt/homebrew/Caskroom/miniconda/base/envs/ir/lib/python3.10/site-packages (from pandas->tira) (2.9.0.post0)\n",
      "Requirement already satisfied: pytz>=2020.1 in /opt/homebrew/Caskroom/miniconda/base/envs/ir/lib/python3.10/site-packages (from pandas->tira) (2024.2)\n",
      "Requirement already satisfied: tzdata>=2022.7 in /opt/homebrew/Caskroom/miniconda/base/envs/ir/lib/python3.10/site-packages (from pandas->tira) (2024.2)\n",
      "Requirement already satisfied: patsy>=0.5.6 in /opt/homebrew/Caskroom/miniconda/base/envs/ir/lib/python3.10/site-packages (from statsmodels->python-terrier) (1.0.1)\n",
      "Requirement already satisfied: six>=1.5 in /opt/homebrew/Caskroom/miniconda/base/envs/ir/lib/python3.10/site-packages (from python-dateutil>=2.8.2->pandas->tira) (1.17.0)\n",
      "Requirement already satisfied: pyterrier-caching in /opt/homebrew/Caskroom/miniconda/base/envs/ir/lib/python3.10/site-packages (0.3.0)\n",
      "Requirement already satisfied: pyterrier_t5 in /opt/homebrew/Caskroom/miniconda/base/envs/ir/lib/python3.10/site-packages (0.1.0)\n",
      "Requirement already satisfied: python-terrier>=0.11.0 in /opt/homebrew/Caskroom/miniconda/base/envs/ir/lib/python3.10/site-packages (from pyterrier-caching) (0.12.1)\n",
      "Requirement already satisfied: pyterrier-alpha>=0.9.4 in /opt/homebrew/Caskroom/miniconda/base/envs/ir/lib/python3.10/site-packages (from pyterrier-caching) (0.11.1)\n",
      "Requirement already satisfied: lz4 in /opt/homebrew/Caskroom/miniconda/base/envs/ir/lib/python3.10/site-packages (from pyterrier-caching) (4.3.3)\n",
      "Requirement already satisfied: numpy<2.0.0 in /opt/homebrew/Caskroom/miniconda/base/envs/ir/lib/python3.10/site-packages (from pyterrier-caching) (1.26.4)\n",
      "Requirement already satisfied: npids>=0.0.7 in /opt/homebrew/Caskroom/miniconda/base/envs/ir/lib/python3.10/site-packages (from pyterrier-caching) (0.0.7)\n",
      "Requirement already satisfied: h5py in /opt/homebrew/Caskroom/miniconda/base/envs/ir/lib/python3.10/site-packages (from pyterrier-caching) (3.12.1)\n",
      "Requirement already satisfied: deprecated in /opt/homebrew/Caskroom/miniconda/base/envs/ir/lib/python3.10/site-packages (from pyterrier-caching) (1.2.15)\n",
      "Requirement already satisfied: transformers>=4.0.0 in /opt/homebrew/Caskroom/miniconda/base/envs/ir/lib/python3.10/site-packages (from pyterrier_t5) (4.47.0)\n",
      "Requirement already satisfied: torch in /opt/homebrew/Caskroom/miniconda/base/envs/ir/lib/python3.10/site-packages (from pyterrier_t5) (2.5.1)\n",
      "Requirement already satisfied: sentencepiece>=0.1.95 in /opt/homebrew/Caskroom/miniconda/base/envs/ir/lib/python3.10/site-packages (from pyterrier_t5) (0.2.0)\n",
      "Requirement already satisfied: colaburl in /opt/homebrew/Caskroom/miniconda/base/envs/ir/lib/python3.10/site-packages (from pyterrier-alpha>=0.9.4->pyterrier-caching) (0.1.0)\n",
      "Requirement already satisfied: pandas in /opt/homebrew/Caskroom/miniconda/base/envs/ir/lib/python3.10/site-packages (from python-terrier>=0.11.0->pyterrier-caching) (2.2.3)\n",
      "Requirement already satisfied: more-itertools in /opt/homebrew/Caskroom/miniconda/base/envs/ir/lib/python3.10/site-packages (from python-terrier>=0.11.0->pyterrier-caching) (10.5.0)\n",
      "Requirement already satisfied: tqdm in /opt/homebrew/Caskroom/miniconda/base/envs/ir/lib/python3.10/site-packages (from python-terrier>=0.11.0->pyterrier-caching) (4.67.1)\n",
      "Requirement already satisfied: requests in /opt/homebrew/Caskroom/miniconda/base/envs/ir/lib/python3.10/site-packages (from python-terrier>=0.11.0->pyterrier-caching) (2.32.3)\n",
      "Requirement already satisfied: ir-datasets>=0.3.2 in /opt/homebrew/Caskroom/miniconda/base/envs/ir/lib/python3.10/site-packages (from python-terrier>=0.11.0->pyterrier-caching) (0.5.9)\n",
      "Requirement already satisfied: wget in /opt/homebrew/Caskroom/miniconda/base/envs/ir/lib/python3.10/site-packages (from python-terrier>=0.11.0->pyterrier-caching) (3.2)\n",
      "Requirement already satisfied: pyjnius>=1.4.2 in /opt/homebrew/Caskroom/miniconda/base/envs/ir/lib/python3.10/site-packages (from python-terrier>=0.11.0->pyterrier-caching) (1.6.1)\n",
      "Requirement already satisfied: scipy in /opt/homebrew/Caskroom/miniconda/base/envs/ir/lib/python3.10/site-packages (from python-terrier>=0.11.0->pyterrier-caching) (1.14.1)\n",
      "Requirement already satisfied: ir-measures>=0.3.1 in /opt/homebrew/Caskroom/miniconda/base/envs/ir/lib/python3.10/site-packages (from python-terrier>=0.11.0->pyterrier-caching) (0.3.6)\n",
      "Requirement already satisfied: pytrec-eval-terrier>=0.5.3 in /opt/homebrew/Caskroom/miniconda/base/envs/ir/lib/python3.10/site-packages (from python-terrier>=0.11.0->pyterrier-caching) (0.5.6)\n",
      "Requirement already satisfied: jinja2 in /opt/homebrew/Caskroom/miniconda/base/envs/ir/lib/python3.10/site-packages (from python-terrier>=0.11.0->pyterrier-caching) (3.1.4)\n",
      "Requirement already satisfied: statsmodels in /opt/homebrew/Caskroom/miniconda/base/envs/ir/lib/python3.10/site-packages (from python-terrier>=0.11.0->pyterrier-caching) (0.14.4)\n",
      "Requirement already satisfied: dill in /opt/homebrew/Caskroom/miniconda/base/envs/ir/lib/python3.10/site-packages (from python-terrier>=0.11.0->pyterrier-caching) (0.3.9)\n",
      "Requirement already satisfied: joblib in /opt/homebrew/Caskroom/miniconda/base/envs/ir/lib/python3.10/site-packages (from python-terrier>=0.11.0->pyterrier-caching) (1.4.2)\n",
      "Requirement already satisfied: chest in /opt/homebrew/Caskroom/miniconda/base/envs/ir/lib/python3.10/site-packages (from python-terrier>=0.11.0->pyterrier-caching) (0.2.3)\n",
      "Requirement already satisfied: filelock in /opt/homebrew/Caskroom/miniconda/base/envs/ir/lib/python3.10/site-packages (from transformers>=4.0.0->pyterrier_t5) (3.16.1)\n",
      "Requirement already satisfied: huggingface-hub<1.0,>=0.24.0 in /opt/homebrew/Caskroom/miniconda/base/envs/ir/lib/python3.10/site-packages (from transformers>=4.0.0->pyterrier_t5) (0.26.5)\n",
      "Requirement already satisfied: packaging>=20.0 in /opt/homebrew/Caskroom/miniconda/base/envs/ir/lib/python3.10/site-packages (from transformers>=4.0.0->pyterrier_t5) (24.2)\n",
      "Requirement already satisfied: pyyaml>=5.1 in /opt/homebrew/Caskroom/miniconda/base/envs/ir/lib/python3.10/site-packages (from transformers>=4.0.0->pyterrier_t5) (6.0.2)\n",
      "Requirement already satisfied: regex!=2019.12.17 in /opt/homebrew/Caskroom/miniconda/base/envs/ir/lib/python3.10/site-packages (from transformers>=4.0.0->pyterrier_t5) (2024.11.6)\n",
      "Requirement already satisfied: tokenizers<0.22,>=0.21 in /opt/homebrew/Caskroom/miniconda/base/envs/ir/lib/python3.10/site-packages (from transformers>=4.0.0->pyterrier_t5) (0.21.0)\n",
      "Requirement already satisfied: safetensors>=0.4.1 in /opt/homebrew/Caskroom/miniconda/base/envs/ir/lib/python3.10/site-packages (from transformers>=4.0.0->pyterrier_t5) (0.4.5)\n",
      "Requirement already satisfied: wrapt<2,>=1.10 in /opt/homebrew/Caskroom/miniconda/base/envs/ir/lib/python3.10/site-packages (from deprecated->pyterrier-caching) (1.17.0)\n",
      "Requirement already satisfied: typing-extensions>=4.8.0 in /opt/homebrew/Caskroom/miniconda/base/envs/ir/lib/python3.10/site-packages (from torch->pyterrier_t5) (4.12.2)\n",
      "Requirement already satisfied: networkx in /opt/homebrew/Caskroom/miniconda/base/envs/ir/lib/python3.10/site-packages (from torch->pyterrier_t5) (3.4.2)\n",
      "Requirement already satisfied: fsspec in /opt/homebrew/Caskroom/miniconda/base/envs/ir/lib/python3.10/site-packages (from torch->pyterrier_t5) (2024.10.0)\n",
      "Requirement already satisfied: sympy==1.13.1 in /opt/homebrew/Caskroom/miniconda/base/envs/ir/lib/python3.10/site-packages (from torch->pyterrier_t5) (1.13.1)\n",
      "Requirement already satisfied: mpmath<1.4,>=1.1.0 in /opt/homebrew/Caskroom/miniconda/base/envs/ir/lib/python3.10/site-packages (from sympy==1.13.1->torch->pyterrier_t5) (1.3.0)\n",
      "Requirement already satisfied: beautifulsoup4>=4.4.1 in /opt/homebrew/Caskroom/miniconda/base/envs/ir/lib/python3.10/site-packages (from ir-datasets>=0.3.2->python-terrier>=0.11.0->pyterrier-caching) (4.12.3)\n",
      "Requirement already satisfied: inscriptis>=2.2.0 in /opt/homebrew/Caskroom/miniconda/base/envs/ir/lib/python3.10/site-packages (from ir-datasets>=0.3.2->python-terrier>=0.11.0->pyterrier-caching) (2.5.0)\n",
      "Requirement already satisfied: lxml>=4.5.2 in /opt/homebrew/Caskroom/miniconda/base/envs/ir/lib/python3.10/site-packages (from ir-datasets>=0.3.2->python-terrier>=0.11.0->pyterrier-caching) (5.3.0)\n",
      "Requirement already satisfied: trec-car-tools>=2.5.4 in /opt/homebrew/Caskroom/miniconda/base/envs/ir/lib/python3.10/site-packages (from ir-datasets>=0.3.2->python-terrier>=0.11.0->pyterrier-caching) (2.6)\n",
      "Requirement already satisfied: warc3-wet>=0.2.3 in /opt/homebrew/Caskroom/miniconda/base/envs/ir/lib/python3.10/site-packages (from ir-datasets>=0.3.2->python-terrier>=0.11.0->pyterrier-caching) (0.2.5)\n",
      "Requirement already satisfied: warc3-wet-clueweb09>=0.2.5 in /opt/homebrew/Caskroom/miniconda/base/envs/ir/lib/python3.10/site-packages (from ir-datasets>=0.3.2->python-terrier>=0.11.0->pyterrier-caching) (0.2.5)\n",
      "Requirement already satisfied: zlib-state>=0.1.3 in /opt/homebrew/Caskroom/miniconda/base/envs/ir/lib/python3.10/site-packages (from ir-datasets>=0.3.2->python-terrier>=0.11.0->pyterrier-caching) (0.1.9)\n",
      "Requirement already satisfied: ijson>=3.1.3 in /opt/homebrew/Caskroom/miniconda/base/envs/ir/lib/python3.10/site-packages (from ir-datasets>=0.3.2->python-terrier>=0.11.0->pyterrier-caching) (3.3.0)\n",
      "Requirement already satisfied: unlzw3>=0.2.1 in /opt/homebrew/Caskroom/miniconda/base/envs/ir/lib/python3.10/site-packages (from ir-datasets>=0.3.2->python-terrier>=0.11.0->pyterrier-caching) (0.2.2)\n",
      "Requirement already satisfied: charset-normalizer<4,>=2 in /opt/homebrew/Caskroom/miniconda/base/envs/ir/lib/python3.10/site-packages (from requests->python-terrier>=0.11.0->pyterrier-caching) (3.4.0)\n",
      "Requirement already satisfied: idna<4,>=2.5 in /opt/homebrew/Caskroom/miniconda/base/envs/ir/lib/python3.10/site-packages (from requests->python-terrier>=0.11.0->pyterrier-caching) (3.10)\n",
      "Requirement already satisfied: urllib3<3,>=1.21.1 in /opt/homebrew/Caskroom/miniconda/base/envs/ir/lib/python3.10/site-packages (from requests->python-terrier>=0.11.0->pyterrier-caching) (2.2.3)\n",
      "Requirement already satisfied: certifi>=2017.4.17 in /opt/homebrew/Caskroom/miniconda/base/envs/ir/lib/python3.10/site-packages (from requests->python-terrier>=0.11.0->pyterrier-caching) (2024.8.30)\n",
      "Requirement already satisfied: heapdict in /opt/homebrew/Caskroom/miniconda/base/envs/ir/lib/python3.10/site-packages (from chest->python-terrier>=0.11.0->pyterrier-caching) (1.0.1)\n",
      "Requirement already satisfied: MarkupSafe>=2.0 in /opt/homebrew/Caskroom/miniconda/base/envs/ir/lib/python3.10/site-packages (from jinja2->python-terrier>=0.11.0->pyterrier-caching) (3.0.2)\n",
      "Requirement already satisfied: python-dateutil>=2.8.2 in /opt/homebrew/Caskroom/miniconda/base/envs/ir/lib/python3.10/site-packages (from pandas->python-terrier>=0.11.0->pyterrier-caching) (2.9.0.post0)\n",
      "Requirement already satisfied: pytz>=2020.1 in /opt/homebrew/Caskroom/miniconda/base/envs/ir/lib/python3.10/site-packages (from pandas->python-terrier>=0.11.0->pyterrier-caching) (2024.2)\n",
      "Requirement already satisfied: tzdata>=2022.7 in /opt/homebrew/Caskroom/miniconda/base/envs/ir/lib/python3.10/site-packages (from pandas->python-terrier>=0.11.0->pyterrier-caching) (2024.2)\n",
      "Requirement already satisfied: patsy>=0.5.6 in /opt/homebrew/Caskroom/miniconda/base/envs/ir/lib/python3.10/site-packages (from statsmodels->python-terrier>=0.11.0->pyterrier-caching) (1.0.1)\n",
      "Requirement already satisfied: soupsieve>1.2 in /opt/homebrew/Caskroom/miniconda/base/envs/ir/lib/python3.10/site-packages (from beautifulsoup4>=4.4.1->ir-datasets>=0.3.2->python-terrier>=0.11.0->pyterrier-caching) (2.6)\n",
      "Requirement already satisfied: six>=1.5 in /opt/homebrew/Caskroom/miniconda/base/envs/ir/lib/python3.10/site-packages (from python-dateutil>=2.8.2->pandas->python-terrier>=0.11.0->pyterrier-caching) (1.17.0)\n",
      "Requirement already satisfied: cbor>=1.0.0 in /opt/homebrew/Caskroom/miniconda/base/envs/ir/lib/python3.10/site-packages (from trec-car-tools>=2.5.4->ir-datasets>=0.3.2->python-terrier>=0.11.0->pyterrier-caching) (1.0.0)\n"
     ]
    }
   ],
   "source": [
    "!pip3 install --upgrade tira ir-datasets python-terrier \n",
    "!pip3 install --upgrade pyterrier-caching pyterrier_t5\n",
    "# !pip3 install --upgrade git+https://github.com/terrierteam/pyterrier_t5.git"
   ]
  },
  {
   "cell_type": "markdown",
   "metadata": {},
   "source": [
    "Create an API client to interact with the TIRA platform (e.g., to load datasets and submit runs)."
   ]
  },
  {
   "cell_type": "code",
   "execution_count": 1,
   "metadata": {},
   "outputs": [
    {
     "name": "stderr",
     "output_type": "stream",
     "text": [
      "No etc/terrier.properties, using terrier.default.properties for bootstrap configuration.\n",
      "Java started and loaded: pyterrier.java, pyterrier.terrier.java [version=5.7 (build: craigm 2022-11-10 18:30), helper_version=0.0.7]\n",
      "/opt/homebrew/Caskroom/miniconda/base/envs/ir/lib/python3.10/site-packages/tira/third_party_integrations.py:39: DeprecationWarning: Call to deprecated method pt.init(). Deprecated since version 0.11.0.\n",
      "The following code will have the same effect:\n",
      "pt.java.add_package('com.github.terrierteam', 'terrier-prf', '-SNAPSHOT')\n",
      "pt.terrier.set_version('5.7')\n",
      "pt.terrier.set_helper_version('0.0.7')\n",
      "pt.java.mavenresolver.offline()\n",
      "pt.java.init() # optional, forces java initialisation\n",
      "  pt.init(\n"
     ]
    }
   ],
   "source": [
    "from tira.third_party_integrations import ensure_pyterrier_is_loaded\n",
    "from tira.rest_api_client import Client\n",
    "\n",
    "ensure_pyterrier_is_loaded()\n",
    "tira = Client()"
   ]
  },
  {
   "cell_type": "markdown",
   "metadata": {},
   "source": [
    "### Step 2: Load the dataset\n",
    "\n",
    "We load the dataset by its ir_datasets ID (as listed in the Readme). Just be sure to add the `irds:` prefix before the dataset ID to tell PyTerrier to load the data from ir_datasets."
   ]
  },
  {
   "cell_type": "code",
   "execution_count": 2,
   "metadata": {},
   "outputs": [],
   "source": [
    "from pyterrier import get_dataset\n",
    "\n",
    "pt_dataset = get_dataset('irds:ir-lab-wise-2024/subsampled-ms-marco-deep-learning-20241201-training')\n",
    "pt_dataset_new = get_dataset('irds:ir-lab-wise-2024/subsampled-ms-marco-rag-20250105-training')\n",
    "pt_dataset_test = get_dataset('irds:ir-lab-wise-2024/subsampled-ms-marco-ir-lab-20250105-test')"
   ]
  },
  {
   "cell_type": "markdown",
   "metadata": {},
   "source": [
    "### Step 3: Build an index\n",
    "\n",
    "We will then create an index from the documents in the dataset we just loaded."
   ]
  },
  {
   "cell_type": "code",
   "execution_count": 5,
   "metadata": {},
   "outputs": [
    {
     "name": "stderr",
     "output_type": "stream",
     "text": [
      "ir-lab-wise-2024/subsampled-ms-marco-deep-learning-20241201-training documents:   0%|          | 0/68261 [00:22<?, ?it/s]\n"
     ]
    },
    {
     "name": "stdout",
     "output_type": "stream",
     "text": [
      "16:52:31.565 [ForkJoinPool-1-worker-1] WARN org.terrier.structures.indexing.Indexer - Adding an empty document to the index (6114613) - further warnings are suppressed\n"
     ]
    },
    {
     "name": "stderr",
     "output_type": "stream",
     "text": [
      "ir-lab-wise-2024/subsampled-ms-marco-deep-learning-20241201-training documents: 100%|██████████| 68261/68261 [00:07<00:00, 8651.48it/s] \n"
     ]
    },
    {
     "name": "stdout",
     "output_type": "stream",
     "text": [
      "16:52:36.564 [ForkJoinPool-1-worker-1] WARN org.terrier.structures.indexing.Indexer - Indexed 1 empty documents\n"
     ]
    }
   ],
   "source": [
    "from pyterrier import IterDictIndexer\n",
    "\n",
    "indexer = IterDictIndexer(\n",
    "    # Store the index in the `index` directory.\n",
    "    \"../data/index\",\n",
    "    meta={'docno': 50, 'text': 4096},\n",
    "    # If an index already exists there, then overwrite it.\n",
    "    overwrite=True,\n",
    ")\n",
    "index = indexer.index(pt_dataset.get_corpus_iter())"
   ]
  },
  {
   "cell_type": "code",
   "execution_count": 6,
   "metadata": {},
   "outputs": [
    {
     "name": "stderr",
     "output_type": "stream",
     "text": [
      "ir-lab-wise-2024/subsampled-ms-marco-rag-20250105-training documents: 100%|██████████| 113227/113227 [00:28<00:00, 4004.04it/s]\n"
     ]
    }
   ],
   "source": [
    "indexer_new = IterDictIndexer(\n",
    "    # Store the index in the `index` directory.\n",
    "    \"../data/index_new\",\n",
    "    meta={'docno': 50, 'text': 4096},\n",
    "    # If an index already exists there, then overwrite it.\n",
    "    overwrite=True,\n",
    ")\n",
    "index_new = indexer_new.index(pt_dataset_new.get_corpus_iter())"
   ]
  },
  {
   "cell_type": "code",
   "execution_count": 7,
   "metadata": {},
   "outputs": [
    {
     "name": "stderr",
     "output_type": "stream",
     "text": [
      "ir-lab-wise-2024/subsampled-ms-marco-ir-lab-20250105-test documents: 100%|██████████| 125112/125112 [00:40<00:00, 3083.80it/s]\n"
     ]
    }
   ],
   "source": [
    "indexer_test = IterDictIndexer(\n",
    "    # Store the index in the `index` directory.\n",
    "    \"../data/index_test\",\n",
    "    meta={'docno': 50, 'text': 4096},\n",
    "    # If an index already exists there, then overwrite it.\n",
    "    overwrite=True,\n",
    ")\n",
    "index_test = indexer_test.index(pt_dataset_test.get_corpus_iter())"
   ]
  },
  {
   "cell_type": "markdown",
   "metadata": {},
   "source": [
    "### Step 4: Define the retrieval pipeline\n",
    "\n",
    "We will define a simple retrieval pipeline using just BM25 as a baseline. For details, refer to the PyTerrier [documentation](https://pyterrier.readthedocs.io) or [tutorial](https://github.com/terrier-org/ecir2021tutorial)."
   ]
  },
  {
   "cell_type": "code",
   "execution_count": 8,
   "metadata": {},
   "outputs": [
    {
     "name": "stderr",
     "output_type": "stream",
     "text": [
      "/var/folders/2z/hftmcxnx6857z5y2jcyv934h0000gn/T/ipykernel_33420/3998526657.py:3: DeprecationWarning: Call to deprecated class BatchRetrieve. (use pt.terrier.Retriever() instead) -- Deprecated since version 0.11.0.\n",
      "  bm25 = BatchRetrieve(index, wmodel=\"BM25\")\n",
      "/var/folders/2z/hftmcxnx6857z5y2jcyv934h0000gn/T/ipykernel_33420/3998526657.py:4: DeprecationWarning: Call to deprecated class BatchRetrieve. (use pt.terrier.Retriever() instead) -- Deprecated since version 0.11.0.\n",
      "  bm25_new = BatchRetrieve(index_new, wmodel=\"BM25\")\n",
      "/var/folders/2z/hftmcxnx6857z5y2jcyv934h0000gn/T/ipykernel_33420/3998526657.py:5: DeprecationWarning: Call to deprecated class BatchRetrieve. (use pt.terrier.Retriever() instead) -- Deprecated since version 0.11.0.\n",
      "  bm25_test = BatchRetrieve(index_test, wmodel=\"BM25\")\n"
     ]
    }
   ],
   "source": [
    "from pyterrier import BatchRetrieve\n",
    "\n",
    "bm25 = BatchRetrieve(index, wmodel=\"BM25\")\n",
    "bm25_new = BatchRetrieve(index_new, wmodel=\"BM25\")\n",
    "bm25_test = BatchRetrieve(index_test, wmodel=\"BM25\")"
   ]
  },
  {
   "cell_type": "markdown",
   "metadata": {},
   "source": [
    "### Step 5: Create the run\n",
    "In the next steps, we would like to apply our retrieval system to some topics, to prepare a 'run' file, containing the retrieved documents."
   ]
  },
  {
   "cell_type": "markdown",
   "metadata": {},
   "source": [
    "First, let's have a short look at the first three topics:"
   ]
  },
  {
   "cell_type": "code",
   "execution_count": 9,
   "metadata": {},
   "outputs": [
    {
     "data": {
      "text/html": [
       "<div>\n",
       "<style scoped>\n",
       "    .dataframe tbody tr th:only-of-type {\n",
       "        vertical-align: middle;\n",
       "    }\n",
       "\n",
       "    .dataframe tbody tr th {\n",
       "        vertical-align: top;\n",
       "    }\n",
       "\n",
       "    .dataframe thead th {\n",
       "        text-align: right;\n",
       "    }\n",
       "</style>\n",
       "<table border=\"1\" class=\"dataframe\">\n",
       "  <thead>\n",
       "    <tr style=\"text-align: right;\">\n",
       "      <th></th>\n",
       "      <th>qid</th>\n",
       "      <th>query</th>\n",
       "    </tr>\n",
       "  </thead>\n",
       "  <tbody>\n",
       "    <tr>\n",
       "      <th>0</th>\n",
       "      <td>1030303</td>\n",
       "      <td>who is aziz hashim</td>\n",
       "    </tr>\n",
       "    <tr>\n",
       "      <th>1</th>\n",
       "      <td>1037496</td>\n",
       "      <td>who is rep scalise</td>\n",
       "    </tr>\n",
       "    <tr>\n",
       "      <th>2</th>\n",
       "      <td>1043135</td>\n",
       "      <td>who killed nicholas ii of russia</td>\n",
       "    </tr>\n",
       "    <tr>\n",
       "      <th>3</th>\n",
       "      <td>1051399</td>\n",
       "      <td>who sings monk theme song</td>\n",
       "    </tr>\n",
       "    <tr>\n",
       "      <th>4</th>\n",
       "      <td>1064670</td>\n",
       "      <td>why do hunters pattern their shotguns</td>\n",
       "    </tr>\n",
       "    <tr>\n",
       "      <th>...</th>\n",
       "      <td>...</td>\n",
       "      <td>...</td>\n",
       "    </tr>\n",
       "    <tr>\n",
       "      <th>92</th>\n",
       "      <td>405717</td>\n",
       "      <td>is cdg airport in main paris</td>\n",
       "    </tr>\n",
       "    <tr>\n",
       "      <th>93</th>\n",
       "      <td>182539</td>\n",
       "      <td>example of monotonic function</td>\n",
       "    </tr>\n",
       "    <tr>\n",
       "      <th>94</th>\n",
       "      <td>1113437</td>\n",
       "      <td>what is physical description of spruce</td>\n",
       "    </tr>\n",
       "    <tr>\n",
       "      <th>95</th>\n",
       "      <td>1129237</td>\n",
       "      <td>hydrogen is a liquid below what temperature</td>\n",
       "    </tr>\n",
       "    <tr>\n",
       "      <th>96</th>\n",
       "      <td>146187</td>\n",
       "      <td>difference between a mcdouble and a double che...</td>\n",
       "    </tr>\n",
       "  </tbody>\n",
       "</table>\n",
       "<p>97 rows × 2 columns</p>\n",
       "</div>"
      ],
      "text/plain": [
       "        qid                                              query\n",
       "0   1030303                                 who is aziz hashim\n",
       "1   1037496                                 who is rep scalise\n",
       "2   1043135                   who killed nicholas ii of russia\n",
       "3   1051399                          who sings monk theme song\n",
       "4   1064670              why do hunters pattern their shotguns\n",
       "..      ...                                                ...\n",
       "92   405717                       is cdg airport in main paris\n",
       "93   182539                      example of monotonic function\n",
       "94  1113437             what is physical description of spruce\n",
       "95  1129237        hydrogen is a liquid below what temperature\n",
       "96   146187  difference between a mcdouble and a double che...\n",
       "\n",
       "[97 rows x 2 columns]"
      ]
     },
     "execution_count": 9,
     "metadata": {},
     "output_type": "execute_result"
    }
   ],
   "source": [
    "# The `'text'` argument below selects the topics `text` field as the query.\n",
    "pt_dataset.get_topics('text')"
   ]
  },
  {
   "cell_type": "code",
   "execution_count": null,
   "metadata": {},
   "outputs": [],
   "source": []
  },
  {
   "cell_type": "markdown",
   "metadata": {},
   "source": [
    "Now, retrieve results for all the topics (may take a while):"
   ]
  },
  {
   "cell_type": "code",
   "execution_count": 10,
   "metadata": {},
   "outputs": [],
   "source": [
    "run = bm25(pt_dataset.get_topics('text'))"
   ]
  },
  {
   "cell_type": "markdown",
   "metadata": {},
   "source": [
    "That's it for the retrieval. Here are the first 10 entries of the run:"
   ]
  },
  {
   "cell_type": "code",
   "execution_count": 11,
   "metadata": {},
   "outputs": [
    {
     "data": {
      "text/html": [
       "<div>\n",
       "<style scoped>\n",
       "    .dataframe tbody tr th:only-of-type {\n",
       "        vertical-align: middle;\n",
       "    }\n",
       "\n",
       "    .dataframe tbody tr th {\n",
       "        vertical-align: top;\n",
       "    }\n",
       "\n",
       "    .dataframe thead th {\n",
       "        text-align: right;\n",
       "    }\n",
       "</style>\n",
       "<table border=\"1\" class=\"dataframe\">\n",
       "  <thead>\n",
       "    <tr style=\"text-align: right;\">\n",
       "      <th></th>\n",
       "      <th>qid</th>\n",
       "      <th>docid</th>\n",
       "      <th>docno</th>\n",
       "      <th>rank</th>\n",
       "      <th>score</th>\n",
       "      <th>query</th>\n",
       "    </tr>\n",
       "  </thead>\n",
       "  <tbody>\n",
       "    <tr>\n",
       "      <th>0</th>\n",
       "      <td>1030303</td>\n",
       "      <td>53852</td>\n",
       "      <td>8726436</td>\n",
       "      <td>0</td>\n",
       "      <td>31.681671</td>\n",
       "      <td>who is aziz hashim</td>\n",
       "    </tr>\n",
       "    <tr>\n",
       "      <th>1</th>\n",
       "      <td>1030303</td>\n",
       "      <td>56041</td>\n",
       "      <td>8726433</td>\n",
       "      <td>1</td>\n",
       "      <td>25.966276</td>\n",
       "      <td>who is aziz hashim</td>\n",
       "    </tr>\n",
       "    <tr>\n",
       "      <th>2</th>\n",
       "      <td>1030303</td>\n",
       "      <td>62116</td>\n",
       "      <td>8726435</td>\n",
       "      <td>2</td>\n",
       "      <td>23.863442</td>\n",
       "      <td>who is aziz hashim</td>\n",
       "    </tr>\n",
       "    <tr>\n",
       "      <th>3</th>\n",
       "      <td>1030303</td>\n",
       "      <td>32183</td>\n",
       "      <td>8726429</td>\n",
       "      <td>3</td>\n",
       "      <td>23.391821</td>\n",
       "      <td>who is aziz hashim</td>\n",
       "    </tr>\n",
       "    <tr>\n",
       "      <th>4</th>\n",
       "      <td>1030303</td>\n",
       "      <td>35867</td>\n",
       "      <td>8726437</td>\n",
       "      <td>4</td>\n",
       "      <td>21.030669</td>\n",
       "      <td>who is aziz hashim</td>\n",
       "    </tr>\n",
       "    <tr>\n",
       "      <th>5</th>\n",
       "      <td>1030303</td>\n",
       "      <td>17637</td>\n",
       "      <td>8726430</td>\n",
       "      <td>5</td>\n",
       "      <td>19.967200</td>\n",
       "      <td>who is aziz hashim</td>\n",
       "    </tr>\n",
       "    <tr>\n",
       "      <th>6</th>\n",
       "      <td>1030303</td>\n",
       "      <td>42957</td>\n",
       "      <td>7156982</td>\n",
       "      <td>6</td>\n",
       "      <td>19.967200</td>\n",
       "      <td>who is aziz hashim</td>\n",
       "    </tr>\n",
       "    <tr>\n",
       "      <th>7</th>\n",
       "      <td>1030303</td>\n",
       "      <td>21803</td>\n",
       "      <td>8726434</td>\n",
       "      <td>7</td>\n",
       "      <td>19.474804</td>\n",
       "      <td>who is aziz hashim</td>\n",
       "    </tr>\n",
       "    <tr>\n",
       "      <th>8</th>\n",
       "      <td>1030303</td>\n",
       "      <td>59828</td>\n",
       "      <td>1305520</td>\n",
       "      <td>8</td>\n",
       "      <td>17.849161</td>\n",
       "      <td>who is aziz hashim</td>\n",
       "    </tr>\n",
       "    <tr>\n",
       "      <th>9</th>\n",
       "      <td>1030303</td>\n",
       "      <td>60002</td>\n",
       "      <td>3302257</td>\n",
       "      <td>9</td>\n",
       "      <td>17.832781</td>\n",
       "      <td>who is aziz hashim</td>\n",
       "    </tr>\n",
       "  </tbody>\n",
       "</table>\n",
       "</div>"
      ],
      "text/plain": [
       "       qid  docid    docno  rank      score               query\n",
       "0  1030303  53852  8726436     0  31.681671  who is aziz hashim\n",
       "1  1030303  56041  8726433     1  25.966276  who is aziz hashim\n",
       "2  1030303  62116  8726435     2  23.863442  who is aziz hashim\n",
       "3  1030303  32183  8726429     3  23.391821  who is aziz hashim\n",
       "4  1030303  35867  8726437     4  21.030669  who is aziz hashim\n",
       "5  1030303  17637  8726430     5  19.967200  who is aziz hashim\n",
       "6  1030303  42957  7156982     6  19.967200  who is aziz hashim\n",
       "7  1030303  21803  8726434     7  19.474804  who is aziz hashim\n",
       "8  1030303  59828  1305520     8  17.849161  who is aziz hashim\n",
       "9  1030303  60002  3302257     9  17.832781  who is aziz hashim"
      ]
     },
     "execution_count": 11,
     "metadata": {},
     "output_type": "execute_result"
    }
   ],
   "source": [
    "run.head(10)"
   ]
  },
  {
   "cell_type": "markdown",
   "metadata": {},
   "source": [
    "# Step 7: Improve\n",
    "\n",
    "Building your own index can be already one way that you can try to improve upon this baseline (if you want to focus on creating good document representations). Other ways could include reformulating queries or tuning parameters or building better retrieval pipelines."
   ]
  },
  {
   "cell_type": "markdown",
   "metadata": {},
   "source": [
    "Ideen:\n",
    "- Lemmatisierung/Stemming andere austesten\n",
    "- Textembeddings (Transformer): Bi-Encoder\n",
    "- Reranking (Top10 in LLM reingeben): monoT5 (das hier machen)\n",
    "- Hyperparameter-Tuning: BM25 Parameter (b, k1, k2) anpassen (Grid-Search)\n",
    "- Query-Pipeline anpassen (Stoppwörter ergänzen/austauschen, usw.) + Query Expansion: Synonyme zur Query hinzufügen\n",
    "- Document Expansion: doc2query\n",
    "- verschiedene Retrieval Ansätze verknüpfen: Learning-to-Rank"
   ]
  },
  {
   "cell_type": "code",
   "execution_count": 12,
   "metadata": {},
   "outputs": [
    {
     "name": "stderr",
     "output_type": "stream",
     "text": [
      "/opt/homebrew/Caskroom/miniconda/base/envs/ir/lib/python3.10/site-packages/tqdm/auto.py:21: TqdmWarning: IProgress not found. Please update jupyter and ipywidgets. See https://ipywidgets.readthedocs.io/en/stable/user_install.html\n",
      "  from .autonotebook import tqdm as notebook_tqdm\n",
      "You are using the default legacy behaviour of the <class 'transformers.models.t5.tokenization_t5.T5Tokenizer'>. This is expected, and simply means that the `legacy` (previous) behavior will be used so nothing changes for you. If you want to use the new behaviour, set `legacy=False`. This should only be set if you understand what it means, and thoroughly read the reason why this was added as explained in https://github.com/huggingface/transformers/pull/24565\n"
     ]
    }
   ],
   "source": [
    "import pyterrier as pt\n",
    "from pyterrier_t5 import MonoT5ReRanker, DuoT5ReRanker\n",
    "monoT5 = MonoT5ReRanker()\n",
    "duoT5 = DuoT5ReRanker()"
   ]
  },
  {
   "cell_type": "code",
   "execution_count": 31,
   "metadata": {},
   "outputs": [],
   "source": [
    "mono_pipeline = bm25 % 100 >> pt.text.get_text(pt_dataset, \"text\") >> monoT5\n",
    "duo_pipeline = mono_pipeline % 10 >> duoT5\n",
    "duo_only_pipeline = bm25 % 10 >> pt.text.get_text(pt_dataset, \"text\") >> duoT5 "
   ]
  },
  {
   "cell_type": "code",
   "execution_count": 32,
   "metadata": {},
   "outputs": [
    {
     "name": "stderr",
     "output_type": "stream",
     "text": [
      "monoT5: 100%|██████████| 75/75 [00:41<00:00,  1.82batches/s]\n",
      "monoT5: 100%|██████████| 75/75 [00:34<00:00,  2.20batches/s]\n",
      "duoT5: 100%|██████████| 3/3 [00:57<00:00, 19.21s/queries]\n",
      "duoT5: 100%|██████████| 3/3 [00:52<00:00, 17.37s/queries]\n"
     ]
    },
    {
     "data": {
      "text/html": [
       "<div>\n",
       "<style scoped>\n",
       "    .dataframe tbody tr th:only-of-type {\n",
       "        vertical-align: middle;\n",
       "    }\n",
       "\n",
       "    .dataframe tbody tr th {\n",
       "        vertical-align: top;\n",
       "    }\n",
       "\n",
       "    .dataframe thead th {\n",
       "        text-align: right;\n",
       "    }\n",
       "</style>\n",
       "<table border=\"1\" class=\"dataframe\">\n",
       "  <thead>\n",
       "    <tr style=\"text-align: right;\">\n",
       "      <th></th>\n",
       "      <th>name</th>\n",
       "      <th>ndcg_cut_10</th>\n",
       "      <th>mrt</th>\n",
       "    </tr>\n",
       "  </thead>\n",
       "  <tbody>\n",
       "    <tr>\n",
       "      <th>0</th>\n",
       "      <td>BM25</td>\n",
       "      <td>0.675</td>\n",
       "      <td>75.133</td>\n",
       "    </tr>\n",
       "    <tr>\n",
       "      <th>1</th>\n",
       "      <td>monoT5</td>\n",
       "      <td>0.768</td>\n",
       "      <td>13801.221</td>\n",
       "    </tr>\n",
       "    <tr>\n",
       "      <th>2</th>\n",
       "      <td>monoT5+duoT5</td>\n",
       "      <td>0.804</td>\n",
       "      <td>30815.829</td>\n",
       "    </tr>\n",
       "    <tr>\n",
       "      <th>3</th>\n",
       "      <td>duoT5</td>\n",
       "      <td>0.729</td>\n",
       "      <td>17676.313</td>\n",
       "    </tr>\n",
       "  </tbody>\n",
       "</table>\n",
       "</div>"
      ],
      "text/plain": [
       "           name  ndcg_cut_10        mrt\n",
       "0          BM25        0.675     75.133\n",
       "1        monoT5        0.768  13801.221\n",
       "2  monoT5+duoT5        0.804  30815.829\n",
       "3         duoT5        0.729  17676.313"
      ]
     },
     "execution_count": 32,
     "metadata": {},
     "output_type": "execute_result"
    }
   ],
   "source": [
    "# Experiment\n",
    "from pyterrier import Experiment\n",
    "# Anzahl der Topics\n",
    "first_x_topics = 3\n",
    "\n",
    "Experiment(\n",
    "    [bm25, mono_pipeline, duo_pipeline, duo_only_pipeline],\n",
    "    topics = pt_dataset.get_topics('text').head(first_x_topics),\n",
    "    qrels = pt_dataset.get_qrels(),\n",
    "    eval_metrics =['ndcg_cut_10', 'mrt'],\n",
    "    names=[\"BM25\", \"monoT5\", \"monoT5+duoT5\", \"duoT5\"],\n",
    "    round = 3\n",
    ")"
   ]
  },
  {
   "cell_type": "code",
   "execution_count": 29,
   "metadata": {},
   "outputs": [
    {
     "name": "stderr",
     "output_type": "stream",
     "text": [
      "monoT5: 100%|██████████| 75/75 [00:26<00:00,  2.78batches/s]\n",
      "monoT5: 100%|██████████| 75/75 [00:25<00:00,  2.93batches/s]\n",
      "duoT5: 100%|██████████| 3/3 [01:05<00:00, 21.86s/queries]\n"
     ]
    },
    {
     "data": {
      "text/html": [
       "<div>\n",
       "<style scoped>\n",
       "    .dataframe tbody tr th:only-of-type {\n",
       "        vertical-align: middle;\n",
       "    }\n",
       "\n",
       "    .dataframe tbody tr th {\n",
       "        vertical-align: top;\n",
       "    }\n",
       "\n",
       "    .dataframe thead th {\n",
       "        text-align: right;\n",
       "    }\n",
       "</style>\n",
       "<table border=\"1\" class=\"dataframe\">\n",
       "  <thead>\n",
       "    <tr style=\"text-align: right;\">\n",
       "      <th></th>\n",
       "      <th>name</th>\n",
       "      <th>ndcg_cut_10</th>\n",
       "      <th>mrt</th>\n",
       "    </tr>\n",
       "  </thead>\n",
       "  <tbody>\n",
       "    <tr>\n",
       "      <th>0</th>\n",
       "      <td>BM25</td>\n",
       "      <td>0.437</td>\n",
       "      <td>58.064</td>\n",
       "    </tr>\n",
       "    <tr>\n",
       "      <th>1</th>\n",
       "      <td>monoT5</td>\n",
       "      <td>0.678</td>\n",
       "      <td>9063.057</td>\n",
       "    </tr>\n",
       "    <tr>\n",
       "      <th>2</th>\n",
       "      <td>duoT5</td>\n",
       "      <td>0.684</td>\n",
       "      <td>30628.034</td>\n",
       "    </tr>\n",
       "  </tbody>\n",
       "</table>\n",
       "</div>"
      ],
      "text/plain": [
       "     name  ndcg_cut_10        mrt\n",
       "0    BM25        0.437     58.064\n",
       "1  monoT5        0.678   9063.057\n",
       "2   duoT5        0.684  30628.034"
      ]
     },
     "execution_count": 29,
     "metadata": {},
     "output_type": "execute_result"
    }
   ],
   "source": [
    "Experiment(\n",
    "    [bm25, mono_pipeline, duo_pipeline],\n",
    "    topics = pt_dataset.get_topics('text').tail(first_x_topics),\n",
    "    qrels = pt_dataset.get_qrels(),\n",
    "    eval_metrics =['ndcg_cut_10', 'mrt'],\n",
    "    names=[\"BM25\", \"monoT5\", \"duoT5\"],\n",
    "    round = 3\n",
    ")"
   ]
  },
  {
   "cell_type": "markdown",
   "metadata": {},
   "source": [
    "# Caching"
   ]
  },
  {
   "cell_type": "code",
   "execution_count": null,
   "metadata": {},
   "outputs": [
    {
     "name": "stdout",
     "output_type": "stream",
     "text": [
      "Sqlite3ScorerCache('monoT5.cache', (<pyterrier.datasets.IRDSTextLoader object at 0x31708bac0> >> MonoT5(castorini/monot5-base-msmarco)), group='query', key='docno'): 9533 hit(s), 0 miss(es)\n",
      "Sqlite3ScorerCache('monoT5.cache', (<pyterrier.datasets.IRDSTextLoader object at 0x31708bac0> >> MonoT5(castorini/monot5-base-msmarco)), group='query', key='docno'): 9533 hit(s), 0 miss(es)\n",
      "Sqlite3ScorerCache('duoT5.cache', (<pyterrier.datasets.IRDSTextLoader object at 0x316e4dcc0> >> DuoT5(castorini/duot5-base-msmarco)), group='query', key='docno'): 965 hit(s), 0 miss(es)\n",
      "Sqlite3ScorerCache('duoT5.cache', (<pyterrier.datasets.IRDSTextLoader object at 0x316e4dcc0> >> DuoT5(castorini/duot5-base-msmarco)), group='query', key='docno'): 965 hit(s), 0 miss(es)\n",
      "Sqlite3ScorerCache('monoT5_new.cache', (<pyterrier.datasets.IRDSTextLoader object at 0x35cf8f970> >> MonoT5(castorini/monot5-base-msmarco)), group='query', key='docno'): 8600 hit(s), 0 miss(es)\n",
      "Sqlite3ScorerCache('monoT5_new.cache', (<pyterrier.datasets.IRDSTextLoader object at 0x35cf8f970> >> MonoT5(castorini/monot5-base-msmarco)), group='query', key='docno'): 8600 hit(s), 0 miss(es)\n"
     ]
    },
    {
     "name": "stderr",
     "output_type": "stream",
     "text": [
      "duoT5:  20%|██        | 14/69 [00:40<03:34,  3.90s/queries]"
     ]
    }
   ],
   "source": [
    "from pyterrier_caching import SparseScorerCache\n",
    "\n",
    "first_x_topics = 100\n",
    "\n",
    "def run_pipeline(dataset, append, base_model):\n",
    "    # (bm25 % 100) damit nur die ersten 100 Dokumente genommen werden\n",
    "    inp = (base_model % 100).transform(dataset.get_topics('text').head(first_x_topics)) # BM25 auf den ersten x Topics anwenden. Dabei cutoff von 100 Dokumenten\n",
    "    inp_10 = (base_model % 10).transform(dataset.get_topics('text').head(first_x_topics)) # Nur die Top10 Dokumente, damit der Input zu DuoT5 gegeben werden kann\n",
    "    mono2 = pt.text.get_text(dataset, \"text\") >> monoT5 # Pipeline für MonoT5\n",
    "    mono_cached = SparseScorerCache('monoT5' + append + '.cache', mono2, verbose=True) # Caching für MonoT5\n",
    "    duo2 = pt.text.get_text(dataset, \"text\") >> duoT5 # Pipeline für DuoT5\n",
    "    duo_cached = SparseScorerCache('duoT5' + append + '.cache', duo2, verbose=True) # Caching für DuoT5\n",
    "\n",
    "    mono_results = mono_cached.transform(inp) # MonoT5 wird auf die Ergebnisse von BM25 angewendet\n",
    "    mono_results_10 = (mono_cached % 10).transform(inp) # Nur die Top10 Dokumente, damit der Input zu DuoT5 gegeben werden kann\n",
    "\n",
    "    duo_results = duo_cached.transform(mono_results_10) # DuoT5 wird auf die Ergebnisse von MonoT5 angewendet\n",
    "    duo_only_results = duo_cached.transform(inp_10) # DuoT5 wird auf die Ergebnisse von BM25 angewendet\n",
    "    return mono_results, duo_results, duo_only_results\n",
    "\n",
    "mono_results, duo_results, duo_only = run_pipeline(pt_dataset, '', bm25)\n",
    "mono_results_new, duo_results_new, duo_only_new = run_pipeline(pt_dataset_new, '_new', bm25_new)\n",
    "mono_results_test, duo_results_test, duo_only_test = run_pipeline(pt_dataset_test, '_test', bm25_test)"
   ]
  },
  {
   "cell_type": "code",
   "execution_count": 35,
   "metadata": {},
   "outputs": [
    {
     "data": {
      "text/html": [
       "<div>\n",
       "<style scoped>\n",
       "    .dataframe tbody tr th:only-of-type {\n",
       "        vertical-align: middle;\n",
       "    }\n",
       "\n",
       "    .dataframe tbody tr th {\n",
       "        vertical-align: top;\n",
       "    }\n",
       "\n",
       "    .dataframe thead th {\n",
       "        text-align: right;\n",
       "    }\n",
       "</style>\n",
       "<table border=\"1\" class=\"dataframe\">\n",
       "  <thead>\n",
       "    <tr style=\"text-align: right;\">\n",
       "      <th></th>\n",
       "      <th>name</th>\n",
       "      <th>ndcg_cut_10</th>\n",
       "      <th>map</th>\n",
       "      <th>recip_rank</th>\n",
       "      <th>P_1</th>\n",
       "      <th>P_5</th>\n",
       "      <th>P_10</th>\n",
       "      <th>mrt</th>\n",
       "    </tr>\n",
       "  </thead>\n",
       "  <tbody>\n",
       "    <tr>\n",
       "      <th>0</th>\n",
       "      <td>BM25</td>\n",
       "      <td>0.489</td>\n",
       "      <td>0.413</td>\n",
       "      <td>0.787</td>\n",
       "      <td>0.701</td>\n",
       "      <td>0.623</td>\n",
       "      <td>0.574</td>\n",
       "      <td>36.803</td>\n",
       "    </tr>\n",
       "    <tr>\n",
       "      <th>1</th>\n",
       "      <td>monoT5</td>\n",
       "      <td>0.702</td>\n",
       "      <td>0.498</td>\n",
       "      <td>0.966</td>\n",
       "      <td>0.948</td>\n",
       "      <td>0.833</td>\n",
       "      <td>0.758</td>\n",
       "      <td>0.000</td>\n",
       "    </tr>\n",
       "    <tr>\n",
       "      <th>2</th>\n",
       "      <td>monoT5+duoT5</td>\n",
       "      <td>0.703</td>\n",
       "      <td>0.201</td>\n",
       "      <td>0.978</td>\n",
       "      <td>0.969</td>\n",
       "      <td>0.843</td>\n",
       "      <td>0.758</td>\n",
       "      <td>0.000</td>\n",
       "    </tr>\n",
       "    <tr>\n",
       "      <th>3</th>\n",
       "      <td>duoT5</td>\n",
       "      <td>0.511</td>\n",
       "      <td>0.149</td>\n",
       "      <td>0.842</td>\n",
       "      <td>0.773</td>\n",
       "      <td>0.685</td>\n",
       "      <td>0.574</td>\n",
       "      <td>0.000</td>\n",
       "    </tr>\n",
       "  </tbody>\n",
       "</table>\n",
       "</div>"
      ],
      "text/plain": [
       "           name  ndcg_cut_10    map  recip_rank    P_1    P_5   P_10     mrt\n",
       "0          BM25        0.489  0.413       0.787  0.701  0.623  0.574  36.803\n",
       "1        monoT5        0.702  0.498       0.966  0.948  0.833  0.758   0.000\n",
       "2  monoT5+duoT5        0.703  0.201       0.978  0.969  0.843  0.758   0.000\n",
       "3         duoT5        0.511  0.149       0.842  0.773  0.685  0.574   0.000"
      ]
     },
     "execution_count": 35,
     "metadata": {},
     "output_type": "execute_result"
    }
   ],
   "source": [
    "# Experiment wird ausgeführt mit den berechneten DataFrames\n",
    "Experiment(\n",
    "    [bm25, mono_results, duo_results, duo_only],\n",
    "    topics = pt_dataset.get_topics('text').head(first_x_topics),\n",
    "    qrels = pt_dataset.get_qrels(),\n",
    "    eval_metrics =['ndcg_cut_10', 'map', 'recip_rank', 'P_1', 'P_5', 'P_10', \"mrt\"],\n",
    "    names=[\"BM25\", \"monoT5\", \"monoT5+duoT5\", \"duoT5\"],\n",
    "    round = 3\n",
    ")"
   ]
  },
  {
   "cell_type": "code",
   "execution_count": 33,
   "metadata": {},
   "outputs": [
    {
     "data": {
      "text/html": [
       "<div>\n",
       "<style scoped>\n",
       "    .dataframe tbody tr th:only-of-type {\n",
       "        vertical-align: middle;\n",
       "    }\n",
       "\n",
       "    .dataframe tbody tr th {\n",
       "        vertical-align: top;\n",
       "    }\n",
       "\n",
       "    .dataframe thead th {\n",
       "        text-align: right;\n",
       "    }\n",
       "</style>\n",
       "<table border=\"1\" class=\"dataframe\">\n",
       "  <thead>\n",
       "    <tr style=\"text-align: right;\">\n",
       "      <th></th>\n",
       "      <th>name</th>\n",
       "      <th>map</th>\n",
       "      <th>recip_rank</th>\n",
       "      <th>P_1</th>\n",
       "      <th>P_5</th>\n",
       "      <th>P_10</th>\n",
       "      <th>ndcg_cut_10</th>\n",
       "      <th>map +</th>\n",
       "      <th>map -</th>\n",
       "      <th>map p-value</th>\n",
       "      <th>...</th>\n",
       "      <th>P_1 p-value</th>\n",
       "      <th>P_5 +</th>\n",
       "      <th>P_5 -</th>\n",
       "      <th>P_5 p-value</th>\n",
       "      <th>P_10 +</th>\n",
       "      <th>P_10 -</th>\n",
       "      <th>P_10 p-value</th>\n",
       "      <th>ndcg_cut_10 +</th>\n",
       "      <th>ndcg_cut_10 -</th>\n",
       "      <th>ndcg_cut_10 p-value</th>\n",
       "    </tr>\n",
       "  </thead>\n",
       "  <tbody>\n",
       "    <tr>\n",
       "      <th>0</th>\n",
       "      <td>BM25</td>\n",
       "      <td>0.502</td>\n",
       "      <td>1.000</td>\n",
       "      <td>1.000</td>\n",
       "      <td>0.800</td>\n",
       "      <td>0.7</td>\n",
       "      <td>0.675</td>\n",
       "      <td>1.0</td>\n",
       "      <td>2.0</td>\n",
       "      <td>0.395170</td>\n",
       "      <td>...</td>\n",
       "      <td>0.42265</td>\n",
       "      <td>0.0</td>\n",
       "      <td>0.0</td>\n",
       "      <td>NaN</td>\n",
       "      <td>2.0</td>\n",
       "      <td>1.0</td>\n",
       "      <td>1.0</td>\n",
       "      <td>1.0</td>\n",
       "      <td>2.0</td>\n",
       "      <td>0.692207</td>\n",
       "    </tr>\n",
       "    <tr>\n",
       "      <th>1</th>\n",
       "      <td>monoT5</td>\n",
       "      <td>0.700</td>\n",
       "      <td>0.833</td>\n",
       "      <td>0.667</td>\n",
       "      <td>0.800</td>\n",
       "      <td>0.7</td>\n",
       "      <td>0.756</td>\n",
       "      <td>NaN</td>\n",
       "      <td>NaN</td>\n",
       "      <td>NaN</td>\n",
       "      <td>...</td>\n",
       "      <td>NaN</td>\n",
       "      <td>NaN</td>\n",
       "      <td>NaN</td>\n",
       "      <td>NaN</td>\n",
       "      <td>NaN</td>\n",
       "      <td>NaN</td>\n",
       "      <td>NaN</td>\n",
       "      <td>NaN</td>\n",
       "      <td>NaN</td>\n",
       "      <td>NaN</td>\n",
       "    </tr>\n",
       "    <tr>\n",
       "      <th>2</th>\n",
       "      <td>monoT5+duoT5</td>\n",
       "      <td>0.271</td>\n",
       "      <td>1.000</td>\n",
       "      <td>1.000</td>\n",
       "      <td>0.867</td>\n",
       "      <td>0.7</td>\n",
       "      <td>0.789</td>\n",
       "      <td>0.0</td>\n",
       "      <td>3.0</td>\n",
       "      <td>0.155078</td>\n",
       "      <td>...</td>\n",
       "      <td>0.42265</td>\n",
       "      <td>1.0</td>\n",
       "      <td>0.0</td>\n",
       "      <td>0.42265</td>\n",
       "      <td>0.0</td>\n",
       "      <td>0.0</td>\n",
       "      <td>NaN</td>\n",
       "      <td>1.0</td>\n",
       "      <td>2.0</td>\n",
       "      <td>0.468596</td>\n",
       "    </tr>\n",
       "    <tr>\n",
       "      <th>3</th>\n",
       "      <td>duoT5</td>\n",
       "      <td>0.384</td>\n",
       "      <td>0.778</td>\n",
       "      <td>0.667</td>\n",
       "      <td>0.800</td>\n",
       "      <td>0.7</td>\n",
       "      <td>0.661</td>\n",
       "      <td>1.0</td>\n",
       "      <td>2.0</td>\n",
       "      <td>0.462564</td>\n",
       "      <td>...</td>\n",
       "      <td>1.00000</td>\n",
       "      <td>1.0</td>\n",
       "      <td>1.0</td>\n",
       "      <td>1.00000</td>\n",
       "      <td>2.0</td>\n",
       "      <td>1.0</td>\n",
       "      <td>1.0</td>\n",
       "      <td>1.0</td>\n",
       "      <td>2.0</td>\n",
       "      <td>0.709310</td>\n",
       "    </tr>\n",
       "  </tbody>\n",
       "</table>\n",
       "<p>4 rows × 25 columns</p>\n",
       "</div>"
      ],
      "text/plain": [
       "           name    map  recip_rank    P_1    P_5  P_10  ndcg_cut_10  map +  \\\n",
       "0          BM25  0.502       1.000  1.000  0.800   0.7        0.675    1.0   \n",
       "1        monoT5  0.700       0.833  0.667  0.800   0.7        0.756    NaN   \n",
       "2  monoT5+duoT5  0.271       1.000  1.000  0.867   0.7        0.789    0.0   \n",
       "3         duoT5  0.384       0.778  0.667  0.800   0.7        0.661    1.0   \n",
       "\n",
       "   map -  map p-value  ...  P_1 p-value  P_5 +  P_5 -  P_5 p-value  P_10 +  \\\n",
       "0    2.0     0.395170  ...      0.42265    0.0    0.0          NaN     2.0   \n",
       "1    NaN          NaN  ...          NaN    NaN    NaN          NaN     NaN   \n",
       "2    3.0     0.155078  ...      0.42265    1.0    0.0      0.42265     0.0   \n",
       "3    2.0     0.462564  ...      1.00000    1.0    1.0      1.00000     2.0   \n",
       "\n",
       "   P_10 -  P_10 p-value  ndcg_cut_10 +  ndcg_cut_10 -  ndcg_cut_10 p-value  \n",
       "0     1.0           1.0            1.0            2.0             0.692207  \n",
       "1     NaN           NaN            NaN            NaN                  NaN  \n",
       "2     0.0           NaN            1.0            2.0             0.468596  \n",
       "3     1.0           1.0            1.0            2.0             0.709310  \n",
       "\n",
       "[4 rows x 25 columns]"
      ]
     },
     "execution_count": 33,
     "metadata": {},
     "output_type": "execute_result"
    }
   ],
   "source": [
    "Experiment(\n",
    "    [bm25, mono_results, duo_results, duo_only],\n",
    "    topics = pt_dataset.get_topics('text').head(first_x_topics),\n",
    "    qrels = pt_dataset.get_qrels(),\n",
    "    eval_metrics =['ndcg_cut_10', 'map', 'recip_rank', 'P_1', 'P_5', 'P_10'],\n",
    "    names=[\"BM25\", \"monoT5\", \"monoT5+duoT5\", \"duoT5\"],\n",
    "    round = 3,\n",
    "    baseline=1\n",
    ")"
   ]
  },
  {
   "cell_type": "code",
   "execution_count": 18,
   "metadata": {},
   "outputs": [
    {
     "ename": "FileNotFoundError",
     "evalue": "/Users/till/.tira/extracted_datasets/ir-lab-wise-2024/subsampled-ms-marco-rag-20250105-training/truth-data/qrels.txt",
     "output_type": "error",
     "traceback": [
      "\u001b[0;31m---------------------------------------------------------------------------\u001b[0m",
      "\u001b[0;31mFileNotFoundError\u001b[0m                         Traceback (most recent call last)",
      "Cell \u001b[0;32mIn[18], line 4\u001b[0m\n\u001b[1;32m      1\u001b[0m Experiment(\n\u001b[1;32m      2\u001b[0m     [bm25_new, mono_results_new, duo_results_new],\n\u001b[1;32m      3\u001b[0m     topics \u001b[38;5;241m=\u001b[39m pt_dataset_new\u001b[38;5;241m.\u001b[39mget_topics(\u001b[38;5;124m'\u001b[39m\u001b[38;5;124mtext\u001b[39m\u001b[38;5;124m'\u001b[39m)\u001b[38;5;241m.\u001b[39mhead(first_x_topics),\n\u001b[0;32m----> 4\u001b[0m     qrels \u001b[38;5;241m=\u001b[39m \u001b[43mpt_dataset_new\u001b[49m\u001b[38;5;241;43m.\u001b[39;49m\u001b[43mget_qrels\u001b[49m\u001b[43m(\u001b[49m\u001b[43m)\u001b[49m,\n\u001b[1;32m      5\u001b[0m     eval_metrics \u001b[38;5;241m=\u001b[39m[\u001b[38;5;124m'\u001b[39m\u001b[38;5;124mndcg_cut_10\u001b[39m\u001b[38;5;124m'\u001b[39m, \u001b[38;5;124m'\u001b[39m\u001b[38;5;124mmap\u001b[39m\u001b[38;5;124m'\u001b[39m, \u001b[38;5;124m'\u001b[39m\u001b[38;5;124mrecip_rank\u001b[39m\u001b[38;5;124m'\u001b[39m, \u001b[38;5;124m'\u001b[39m\u001b[38;5;124mP_1\u001b[39m\u001b[38;5;124m'\u001b[39m, \u001b[38;5;124m'\u001b[39m\u001b[38;5;124mP_5\u001b[39m\u001b[38;5;124m'\u001b[39m, \u001b[38;5;124m'\u001b[39m\u001b[38;5;124mP_10\u001b[39m\u001b[38;5;124m'\u001b[39m],\n\u001b[1;32m      6\u001b[0m     names\u001b[38;5;241m=\u001b[39m[\u001b[38;5;124m\"\u001b[39m\u001b[38;5;124mBM25\u001b[39m\u001b[38;5;124m\"\u001b[39m, \u001b[38;5;124m\"\u001b[39m\u001b[38;5;124mmonoT5\u001b[39m\u001b[38;5;124m\"\u001b[39m, \u001b[38;5;124m\"\u001b[39m\u001b[38;5;124mduoT5\u001b[39m\u001b[38;5;124m\"\u001b[39m],\n\u001b[1;32m      7\u001b[0m     \u001b[38;5;28mround\u001b[39m \u001b[38;5;241m=\u001b[39m \u001b[38;5;241m3\u001b[39m,\n\u001b[1;32m      8\u001b[0m     baseline\u001b[38;5;241m=\u001b[39m\u001b[38;5;241m0\u001b[39m\n\u001b[1;32m      9\u001b[0m )\n",
      "File \u001b[0;32m/opt/homebrew/Caskroom/miniconda/base/envs/ir/lib/python3.10/site-packages/pyterrier/datasets.py:498\u001b[0m, in \u001b[0;36mIRDSDataset.get_qrels\u001b[0;34m(self, variant)\u001b[0m\n\u001b[1;32m    496\u001b[0m qrel_fields \u001b[38;5;241m=\u001b[39m [f \u001b[38;5;28;01mfor\u001b[39;00m f \u001b[38;5;129;01min\u001b[39;00m qrelcls\u001b[38;5;241m.\u001b[39m_fields \u001b[38;5;28;01mif\u001b[39;00m f \u001b[38;5;129;01mnot\u001b[39;00m \u001b[38;5;129;01min\u001b[39;00m (\u001b[38;5;124m'\u001b[39m\u001b[38;5;124mquery_id\u001b[39m\u001b[38;5;124m'\u001b[39m, \u001b[38;5;124m'\u001b[39m\u001b[38;5;124mdoc_id\u001b[39m\u001b[38;5;124m'\u001b[39m, \u001b[38;5;124m'\u001b[39m\u001b[38;5;124miteration\u001b[39m\u001b[38;5;124m'\u001b[39m)]\n\u001b[1;32m    497\u001b[0m \u001b[38;5;28;01massert\u001b[39;00m variant \u001b[38;5;129;01mis\u001b[39;00m \u001b[38;5;28;01mNone\u001b[39;00m \u001b[38;5;129;01mor\u001b[39;00m variant \u001b[38;5;129;01min\u001b[39;00m qrel_fields, \u001b[38;5;124mf\u001b[39m\u001b[38;5;124m\"\u001b[39m\u001b[38;5;132;01m{\u001b[39;00m\u001b[38;5;28mself\u001b[39m\u001b[38;5;241m.\u001b[39m_irds_id\u001b[38;5;132;01m}\u001b[39;00m\u001b[38;5;124m only supports the following qrel variants \u001b[39m\u001b[38;5;132;01m{\u001b[39;00mqrel_fields\u001b[38;5;132;01m}\u001b[39;00m\u001b[38;5;124m\"\u001b[39m\n\u001b[0;32m--> 498\u001b[0m df \u001b[38;5;241m=\u001b[39m \u001b[43mpd\u001b[49m\u001b[38;5;241;43m.\u001b[39;49m\u001b[43mDataFrame\u001b[49m\u001b[43m(\u001b[49m\u001b[43mds\u001b[49m\u001b[38;5;241;43m.\u001b[39;49m\u001b[43mqrels_iter\u001b[49m\u001b[43m(\u001b[49m\u001b[43m)\u001b[49m\u001b[43m)\u001b[49m\n\u001b[1;32m    500\u001b[0m \u001b[38;5;66;03m# pyterrier uses \"qid\" and \"docno\"\u001b[39;00m\n\u001b[1;32m    501\u001b[0m df\u001b[38;5;241m.\u001b[39mrename(columns\u001b[38;5;241m=\u001b[39m{\n\u001b[1;32m    502\u001b[0m     \u001b[38;5;124m\"\u001b[39m\u001b[38;5;124mquery_id\u001b[39m\u001b[38;5;124m\"\u001b[39m: \u001b[38;5;124m\"\u001b[39m\u001b[38;5;124mqid\u001b[39m\u001b[38;5;124m\"\u001b[39m,\n\u001b[1;32m    503\u001b[0m     \u001b[38;5;124m\"\u001b[39m\u001b[38;5;124mdoc_id\u001b[39m\u001b[38;5;124m\"\u001b[39m: \u001b[38;5;124m\"\u001b[39m\u001b[38;5;124mdocno\u001b[39m\u001b[38;5;124m\"\u001b[39m}, inplace\u001b[38;5;241m=\u001b[39m\u001b[38;5;28;01mTrue\u001b[39;00m)\n",
      "File \u001b[0;32m/opt/homebrew/Caskroom/miniconda/base/envs/ir/lib/python3.10/site-packages/pandas/core/frame.py:843\u001b[0m, in \u001b[0;36mDataFrame.__init__\u001b[0;34m(self, data, index, columns, dtype, copy)\u001b[0m\n\u001b[1;32m    841\u001b[0m         data \u001b[38;5;241m=\u001b[39m np\u001b[38;5;241m.\u001b[39masarray(data)\n\u001b[1;32m    842\u001b[0m     \u001b[38;5;28;01melse\u001b[39;00m:\n\u001b[0;32m--> 843\u001b[0m         data \u001b[38;5;241m=\u001b[39m \u001b[38;5;28;43mlist\u001b[39;49m\u001b[43m(\u001b[49m\u001b[43mdata\u001b[49m\u001b[43m)\u001b[49m\n\u001b[1;32m    844\u001b[0m \u001b[38;5;28;01mif\u001b[39;00m \u001b[38;5;28mlen\u001b[39m(data) \u001b[38;5;241m>\u001b[39m \u001b[38;5;241m0\u001b[39m:\n\u001b[1;32m    845\u001b[0m     \u001b[38;5;28;01mif\u001b[39;00m is_dataclass(data[\u001b[38;5;241m0\u001b[39m]):\n",
      "File \u001b[0;32m/opt/homebrew/Caskroom/miniconda/base/envs/ir/lib/python3.10/site-packages/ir_datasets/formats/trec.py:433\u001b[0m, in \u001b[0;36mTrecQrels.qrels_iter\u001b[0;34m(self)\u001b[0m\n\u001b[1;32m    431\u001b[0m         \u001b[38;5;28;01myield from\u001b[39;00m \u001b[38;5;28mself\u001b[39m\u001b[38;5;241m.\u001b[39m_qrels_internal_iter(dlc)\n\u001b[1;32m    432\u001b[0m \u001b[38;5;28;01melse\u001b[39;00m:\n\u001b[0;32m--> 433\u001b[0m     \u001b[38;5;28;01myield from\u001b[39;00m \u001b[38;5;28mself\u001b[39m\u001b[38;5;241m.\u001b[39m_qrels_internal_iter(\u001b[38;5;28mself\u001b[39m\u001b[38;5;241m.\u001b[39m_qrels_dlc)\n",
      "File \u001b[0;32m/opt/homebrew/Caskroom/miniconda/base/envs/ir/lib/python3.10/site-packages/ir_datasets/formats/trec.py:436\u001b[0m, in \u001b[0;36mTrecQrels._qrels_internal_iter\u001b[0;34m(self, dlc)\u001b[0m\n\u001b[1;32m    435\u001b[0m \u001b[38;5;28;01mdef\u001b[39;00m \u001b[38;5;21m_qrels_internal_iter\u001b[39m(\u001b[38;5;28mself\u001b[39m, dlc):\n\u001b[0;32m--> 436\u001b[0m     \u001b[38;5;28;01mwith\u001b[39;00m dlc\u001b[38;5;241m.\u001b[39mstream() \u001b[38;5;28;01mas\u001b[39;00m f:\n\u001b[1;32m    437\u001b[0m         f \u001b[38;5;241m=\u001b[39m codecs\u001b[38;5;241m.\u001b[39mgetreader(\u001b[38;5;124m'\u001b[39m\u001b[38;5;124mutf8\u001b[39m\u001b[38;5;124m'\u001b[39m)(f)\n\u001b[1;32m    438\u001b[0m         \u001b[38;5;28;01mfor\u001b[39;00m line \u001b[38;5;129;01min\u001b[39;00m f:\n",
      "File \u001b[0;32m/opt/homebrew/Caskroom/miniconda/base/envs/ir/lib/python3.10/contextlib.py:135\u001b[0m, in \u001b[0;36m_GeneratorContextManager.__enter__\u001b[0;34m(self)\u001b[0m\n\u001b[1;32m    133\u001b[0m \u001b[38;5;28;01mdel\u001b[39;00m \u001b[38;5;28mself\u001b[39m\u001b[38;5;241m.\u001b[39margs, \u001b[38;5;28mself\u001b[39m\u001b[38;5;241m.\u001b[39mkwds, \u001b[38;5;28mself\u001b[39m\u001b[38;5;241m.\u001b[39mfunc\n\u001b[1;32m    134\u001b[0m \u001b[38;5;28;01mtry\u001b[39;00m:\n\u001b[0;32m--> 135\u001b[0m     \u001b[38;5;28;01mreturn\u001b[39;00m \u001b[38;5;28;43mnext\u001b[39;49m\u001b[43m(\u001b[49m\u001b[38;5;28;43mself\u001b[39;49m\u001b[38;5;241;43m.\u001b[39;49m\u001b[43mgen\u001b[49m\u001b[43m)\u001b[49m\n\u001b[1;32m    136\u001b[0m \u001b[38;5;28;01mexcept\u001b[39;00m \u001b[38;5;167;01mStopIteration\u001b[39;00m:\n\u001b[1;32m    137\u001b[0m     \u001b[38;5;28;01mraise\u001b[39;00m \u001b[38;5;167;01mRuntimeError\u001b[39;00m(\u001b[38;5;124m\"\u001b[39m\u001b[38;5;124mgenerator didn\u001b[39m\u001b[38;5;124m'\u001b[39m\u001b[38;5;124mt yield\u001b[39m\u001b[38;5;124m\"\u001b[39m) \u001b[38;5;28;01mfrom\u001b[39;00m \u001b[38;5;28;01mNone\u001b[39;00m\n",
      "File \u001b[0;32m/opt/homebrew/Caskroom/miniconda/base/envs/ir/lib/python3.10/site-packages/ir_datasets/util/download.py:208\u001b[0m, in \u001b[0;36mLocalDownload.stream\u001b[0;34m(self)\u001b[0m\n\u001b[1;32m    206\u001b[0m \u001b[38;5;129m@contextlib\u001b[39m\u001b[38;5;241m.\u001b[39mcontextmanager\n\u001b[1;32m    207\u001b[0m \u001b[38;5;28;01mdef\u001b[39;00m \u001b[38;5;21mstream\u001b[39m(\u001b[38;5;28mself\u001b[39m):\n\u001b[0;32m--> 208\u001b[0m     \u001b[38;5;28;01mwith\u001b[39;00m \u001b[38;5;28;43mself\u001b[39;49m\u001b[38;5;241;43m.\u001b[39;49m\u001b[43mpath\u001b[49m\u001b[43m(\u001b[49m\u001b[43m)\u001b[49m\u001b[38;5;241m.\u001b[39mopen(\u001b[38;5;124m'\u001b[39m\u001b[38;5;124mrb\u001b[39m\u001b[38;5;124m'\u001b[39m) \u001b[38;5;28;01mas\u001b[39;00m f:\n\u001b[1;32m    209\u001b[0m         \u001b[38;5;28;01myield\u001b[39;00m f\n",
      "File \u001b[0;32m/opt/homebrew/Caskroom/miniconda/base/envs/ir/lib/python3.10/site-packages/ir_datasets/util/download.py:203\u001b[0m, in \u001b[0;36mLocalDownload.path\u001b[0;34m(self, force)\u001b[0m\n\u001b[1;32m    201\u001b[0m     \u001b[38;5;28;01mif\u001b[39;00m \u001b[38;5;28mself\u001b[39m\u001b[38;5;241m.\u001b[39m_message:\n\u001b[1;32m    202\u001b[0m         _logger\u001b[38;5;241m.\u001b[39minfo(\u001b[38;5;28mself\u001b[39m\u001b[38;5;241m.\u001b[39m_message)\n\u001b[0;32m--> 203\u001b[0m     \u001b[38;5;28;01mraise\u001b[39;00m \u001b[38;5;167;01mFileNotFoundError\u001b[39;00m(\u001b[38;5;28mself\u001b[39m\u001b[38;5;241m.\u001b[39m_path)\n\u001b[1;32m    204\u001b[0m \u001b[38;5;28;01mreturn\u001b[39;00m \u001b[38;5;28mself\u001b[39m\u001b[38;5;241m.\u001b[39m_path\n",
      "\u001b[0;31mFileNotFoundError\u001b[0m: /Users/till/.tira/extracted_datasets/ir-lab-wise-2024/subsampled-ms-marco-rag-20250105-training/truth-data/qrels.txt"
     ]
    }
   ],
   "source": [
    "Experiment(\n",
    "    [bm25_new, mono_results_new, duo_results_new],\n",
    "    topics = pt_dataset_new.get_topics('text').head(first_x_topics),\n",
    "    qrels = pt_dataset_new.get_qrels(),\n",
    "    eval_metrics =['ndcg_cut_10', 'map', 'recip_rank', 'P_1', 'P_5', 'P_10'],\n",
    "    names=[\"BM25\", \"monoT5\", \"duoT5\"],\n",
    "    round = 3,\n",
    "    baseline=0\n",
    ")"
   ]
  },
  {
   "cell_type": "code",
   "execution_count": 26,
   "metadata": {},
   "outputs": [
    {
     "ename": "FileNotFoundError",
     "evalue": "/Users/till/.tira/extracted_datasets/ir-lab-wise-2024/subsampled-ms-marco-ir-lab-20250105-test/truth-data/qrels.txt",
     "output_type": "error",
     "traceback": [
      "\u001b[0;31m---------------------------------------------------------------------------\u001b[0m",
      "\u001b[0;31mFileNotFoundError\u001b[0m                         Traceback (most recent call last)",
      "Cell \u001b[0;32mIn[26], line 4\u001b[0m\n\u001b[1;32m      1\u001b[0m Experiment(\n\u001b[1;32m      2\u001b[0m     [bm25_test, mono_results_test, duo_results_test],\n\u001b[1;32m      3\u001b[0m     topics \u001b[38;5;241m=\u001b[39m pt_dataset_test\u001b[38;5;241m.\u001b[39mget_topics(\u001b[38;5;124m'\u001b[39m\u001b[38;5;124mtext\u001b[39m\u001b[38;5;124m'\u001b[39m)\u001b[38;5;241m.\u001b[39mhead(first_x_topics),\n\u001b[0;32m----> 4\u001b[0m     qrels \u001b[38;5;241m=\u001b[39m \u001b[43mpt_dataset_test\u001b[49m\u001b[38;5;241;43m.\u001b[39;49m\u001b[43mget_qrels\u001b[49m\u001b[43m(\u001b[49m\u001b[43m)\u001b[49m,\n\u001b[1;32m      5\u001b[0m     eval_metrics \u001b[38;5;241m=\u001b[39m[\u001b[38;5;124m'\u001b[39m\u001b[38;5;124mndcg_cut_10\u001b[39m\u001b[38;5;124m'\u001b[39m, \u001b[38;5;124m'\u001b[39m\u001b[38;5;124mmap\u001b[39m\u001b[38;5;124m'\u001b[39m, \u001b[38;5;124m'\u001b[39m\u001b[38;5;124mrecip_rank\u001b[39m\u001b[38;5;124m'\u001b[39m, \u001b[38;5;124m'\u001b[39m\u001b[38;5;124mP_1\u001b[39m\u001b[38;5;124m'\u001b[39m, \u001b[38;5;124m'\u001b[39m\u001b[38;5;124mP_5\u001b[39m\u001b[38;5;124m'\u001b[39m, \u001b[38;5;124m'\u001b[39m\u001b[38;5;124mP_10\u001b[39m\u001b[38;5;124m'\u001b[39m],\n\u001b[1;32m      6\u001b[0m     names\u001b[38;5;241m=\u001b[39m[\u001b[38;5;124m\"\u001b[39m\u001b[38;5;124mBM25\u001b[39m\u001b[38;5;124m\"\u001b[39m, \u001b[38;5;124m\"\u001b[39m\u001b[38;5;124mmonoT5\u001b[39m\u001b[38;5;124m\"\u001b[39m, \u001b[38;5;124m\"\u001b[39m\u001b[38;5;124mduoT5\u001b[39m\u001b[38;5;124m\"\u001b[39m],\n\u001b[1;32m      7\u001b[0m     \u001b[38;5;28mround\u001b[39m \u001b[38;5;241m=\u001b[39m \u001b[38;5;241m3\u001b[39m,\n\u001b[1;32m      8\u001b[0m     baseline\u001b[38;5;241m=\u001b[39m\u001b[38;5;241m0\u001b[39m\n\u001b[1;32m      9\u001b[0m )\n",
      "File \u001b[0;32m/opt/homebrew/Caskroom/miniconda/base/envs/ir/lib/python3.10/site-packages/pyterrier/datasets.py:498\u001b[0m, in \u001b[0;36mIRDSDataset.get_qrels\u001b[0;34m(self, variant)\u001b[0m\n\u001b[1;32m    496\u001b[0m qrel_fields \u001b[38;5;241m=\u001b[39m [f \u001b[38;5;28;01mfor\u001b[39;00m f \u001b[38;5;129;01min\u001b[39;00m qrelcls\u001b[38;5;241m.\u001b[39m_fields \u001b[38;5;28;01mif\u001b[39;00m f \u001b[38;5;129;01mnot\u001b[39;00m \u001b[38;5;129;01min\u001b[39;00m (\u001b[38;5;124m'\u001b[39m\u001b[38;5;124mquery_id\u001b[39m\u001b[38;5;124m'\u001b[39m, \u001b[38;5;124m'\u001b[39m\u001b[38;5;124mdoc_id\u001b[39m\u001b[38;5;124m'\u001b[39m, \u001b[38;5;124m'\u001b[39m\u001b[38;5;124miteration\u001b[39m\u001b[38;5;124m'\u001b[39m)]\n\u001b[1;32m    497\u001b[0m \u001b[38;5;28;01massert\u001b[39;00m variant \u001b[38;5;129;01mis\u001b[39;00m \u001b[38;5;28;01mNone\u001b[39;00m \u001b[38;5;129;01mor\u001b[39;00m variant \u001b[38;5;129;01min\u001b[39;00m qrel_fields, \u001b[38;5;124mf\u001b[39m\u001b[38;5;124m\"\u001b[39m\u001b[38;5;132;01m{\u001b[39;00m\u001b[38;5;28mself\u001b[39m\u001b[38;5;241m.\u001b[39m_irds_id\u001b[38;5;132;01m}\u001b[39;00m\u001b[38;5;124m only supports the following qrel variants \u001b[39m\u001b[38;5;132;01m{\u001b[39;00mqrel_fields\u001b[38;5;132;01m}\u001b[39;00m\u001b[38;5;124m\"\u001b[39m\n\u001b[0;32m--> 498\u001b[0m df \u001b[38;5;241m=\u001b[39m \u001b[43mpd\u001b[49m\u001b[38;5;241;43m.\u001b[39;49m\u001b[43mDataFrame\u001b[49m\u001b[43m(\u001b[49m\u001b[43mds\u001b[49m\u001b[38;5;241;43m.\u001b[39;49m\u001b[43mqrels_iter\u001b[49m\u001b[43m(\u001b[49m\u001b[43m)\u001b[49m\u001b[43m)\u001b[49m\n\u001b[1;32m    500\u001b[0m \u001b[38;5;66;03m# pyterrier uses \"qid\" and \"docno\"\u001b[39;00m\n\u001b[1;32m    501\u001b[0m df\u001b[38;5;241m.\u001b[39mrename(columns\u001b[38;5;241m=\u001b[39m{\n\u001b[1;32m    502\u001b[0m     \u001b[38;5;124m\"\u001b[39m\u001b[38;5;124mquery_id\u001b[39m\u001b[38;5;124m\"\u001b[39m: \u001b[38;5;124m\"\u001b[39m\u001b[38;5;124mqid\u001b[39m\u001b[38;5;124m\"\u001b[39m,\n\u001b[1;32m    503\u001b[0m     \u001b[38;5;124m\"\u001b[39m\u001b[38;5;124mdoc_id\u001b[39m\u001b[38;5;124m\"\u001b[39m: \u001b[38;5;124m\"\u001b[39m\u001b[38;5;124mdocno\u001b[39m\u001b[38;5;124m\"\u001b[39m}, inplace\u001b[38;5;241m=\u001b[39m\u001b[38;5;28;01mTrue\u001b[39;00m)\n",
      "File \u001b[0;32m/opt/homebrew/Caskroom/miniconda/base/envs/ir/lib/python3.10/site-packages/pandas/core/frame.py:843\u001b[0m, in \u001b[0;36mDataFrame.__init__\u001b[0;34m(self, data, index, columns, dtype, copy)\u001b[0m\n\u001b[1;32m    841\u001b[0m         data \u001b[38;5;241m=\u001b[39m np\u001b[38;5;241m.\u001b[39masarray(data)\n\u001b[1;32m    842\u001b[0m     \u001b[38;5;28;01melse\u001b[39;00m:\n\u001b[0;32m--> 843\u001b[0m         data \u001b[38;5;241m=\u001b[39m \u001b[38;5;28;43mlist\u001b[39;49m\u001b[43m(\u001b[49m\u001b[43mdata\u001b[49m\u001b[43m)\u001b[49m\n\u001b[1;32m    844\u001b[0m \u001b[38;5;28;01mif\u001b[39;00m \u001b[38;5;28mlen\u001b[39m(data) \u001b[38;5;241m>\u001b[39m \u001b[38;5;241m0\u001b[39m:\n\u001b[1;32m    845\u001b[0m     \u001b[38;5;28;01mif\u001b[39;00m is_dataclass(data[\u001b[38;5;241m0\u001b[39m]):\n",
      "File \u001b[0;32m/opt/homebrew/Caskroom/miniconda/base/envs/ir/lib/python3.10/site-packages/ir_datasets/formats/trec.py:433\u001b[0m, in \u001b[0;36mTrecQrels.qrels_iter\u001b[0;34m(self)\u001b[0m\n\u001b[1;32m    431\u001b[0m         \u001b[38;5;28;01myield from\u001b[39;00m \u001b[38;5;28mself\u001b[39m\u001b[38;5;241m.\u001b[39m_qrels_internal_iter(dlc)\n\u001b[1;32m    432\u001b[0m \u001b[38;5;28;01melse\u001b[39;00m:\n\u001b[0;32m--> 433\u001b[0m     \u001b[38;5;28;01myield from\u001b[39;00m \u001b[38;5;28mself\u001b[39m\u001b[38;5;241m.\u001b[39m_qrels_internal_iter(\u001b[38;5;28mself\u001b[39m\u001b[38;5;241m.\u001b[39m_qrels_dlc)\n",
      "File \u001b[0;32m/opt/homebrew/Caskroom/miniconda/base/envs/ir/lib/python3.10/site-packages/ir_datasets/formats/trec.py:436\u001b[0m, in \u001b[0;36mTrecQrels._qrels_internal_iter\u001b[0;34m(self, dlc)\u001b[0m\n\u001b[1;32m    435\u001b[0m \u001b[38;5;28;01mdef\u001b[39;00m \u001b[38;5;21m_qrels_internal_iter\u001b[39m(\u001b[38;5;28mself\u001b[39m, dlc):\n\u001b[0;32m--> 436\u001b[0m     \u001b[38;5;28;01mwith\u001b[39;00m dlc\u001b[38;5;241m.\u001b[39mstream() \u001b[38;5;28;01mas\u001b[39;00m f:\n\u001b[1;32m    437\u001b[0m         f \u001b[38;5;241m=\u001b[39m codecs\u001b[38;5;241m.\u001b[39mgetreader(\u001b[38;5;124m'\u001b[39m\u001b[38;5;124mutf8\u001b[39m\u001b[38;5;124m'\u001b[39m)(f)\n\u001b[1;32m    438\u001b[0m         \u001b[38;5;28;01mfor\u001b[39;00m line \u001b[38;5;129;01min\u001b[39;00m f:\n",
      "File \u001b[0;32m/opt/homebrew/Caskroom/miniconda/base/envs/ir/lib/python3.10/contextlib.py:135\u001b[0m, in \u001b[0;36m_GeneratorContextManager.__enter__\u001b[0;34m(self)\u001b[0m\n\u001b[1;32m    133\u001b[0m \u001b[38;5;28;01mdel\u001b[39;00m \u001b[38;5;28mself\u001b[39m\u001b[38;5;241m.\u001b[39margs, \u001b[38;5;28mself\u001b[39m\u001b[38;5;241m.\u001b[39mkwds, \u001b[38;5;28mself\u001b[39m\u001b[38;5;241m.\u001b[39mfunc\n\u001b[1;32m    134\u001b[0m \u001b[38;5;28;01mtry\u001b[39;00m:\n\u001b[0;32m--> 135\u001b[0m     \u001b[38;5;28;01mreturn\u001b[39;00m \u001b[38;5;28;43mnext\u001b[39;49m\u001b[43m(\u001b[49m\u001b[38;5;28;43mself\u001b[39;49m\u001b[38;5;241;43m.\u001b[39;49m\u001b[43mgen\u001b[49m\u001b[43m)\u001b[49m\n\u001b[1;32m    136\u001b[0m \u001b[38;5;28;01mexcept\u001b[39;00m \u001b[38;5;167;01mStopIteration\u001b[39;00m:\n\u001b[1;32m    137\u001b[0m     \u001b[38;5;28;01mraise\u001b[39;00m \u001b[38;5;167;01mRuntimeError\u001b[39;00m(\u001b[38;5;124m\"\u001b[39m\u001b[38;5;124mgenerator didn\u001b[39m\u001b[38;5;124m'\u001b[39m\u001b[38;5;124mt yield\u001b[39m\u001b[38;5;124m\"\u001b[39m) \u001b[38;5;28;01mfrom\u001b[39;00m \u001b[38;5;28;01mNone\u001b[39;00m\n",
      "File \u001b[0;32m/opt/homebrew/Caskroom/miniconda/base/envs/ir/lib/python3.10/site-packages/ir_datasets/util/download.py:208\u001b[0m, in \u001b[0;36mLocalDownload.stream\u001b[0;34m(self)\u001b[0m\n\u001b[1;32m    206\u001b[0m \u001b[38;5;129m@contextlib\u001b[39m\u001b[38;5;241m.\u001b[39mcontextmanager\n\u001b[1;32m    207\u001b[0m \u001b[38;5;28;01mdef\u001b[39;00m \u001b[38;5;21mstream\u001b[39m(\u001b[38;5;28mself\u001b[39m):\n\u001b[0;32m--> 208\u001b[0m     \u001b[38;5;28;01mwith\u001b[39;00m \u001b[38;5;28;43mself\u001b[39;49m\u001b[38;5;241;43m.\u001b[39;49m\u001b[43mpath\u001b[49m\u001b[43m(\u001b[49m\u001b[43m)\u001b[49m\u001b[38;5;241m.\u001b[39mopen(\u001b[38;5;124m'\u001b[39m\u001b[38;5;124mrb\u001b[39m\u001b[38;5;124m'\u001b[39m) \u001b[38;5;28;01mas\u001b[39;00m f:\n\u001b[1;32m    209\u001b[0m         \u001b[38;5;28;01myield\u001b[39;00m f\n",
      "File \u001b[0;32m/opt/homebrew/Caskroom/miniconda/base/envs/ir/lib/python3.10/site-packages/ir_datasets/util/download.py:203\u001b[0m, in \u001b[0;36mLocalDownload.path\u001b[0;34m(self, force)\u001b[0m\n\u001b[1;32m    201\u001b[0m     \u001b[38;5;28;01mif\u001b[39;00m \u001b[38;5;28mself\u001b[39m\u001b[38;5;241m.\u001b[39m_message:\n\u001b[1;32m    202\u001b[0m         _logger\u001b[38;5;241m.\u001b[39minfo(\u001b[38;5;28mself\u001b[39m\u001b[38;5;241m.\u001b[39m_message)\n\u001b[0;32m--> 203\u001b[0m     \u001b[38;5;28;01mraise\u001b[39;00m \u001b[38;5;167;01mFileNotFoundError\u001b[39;00m(\u001b[38;5;28mself\u001b[39m\u001b[38;5;241m.\u001b[39m_path)\n\u001b[1;32m    204\u001b[0m \u001b[38;5;28;01mreturn\u001b[39;00m \u001b[38;5;28mself\u001b[39m\u001b[38;5;241m.\u001b[39m_path\n",
      "\u001b[0;31mFileNotFoundError\u001b[0m: /Users/till/.tira/extracted_datasets/ir-lab-wise-2024/subsampled-ms-marco-ir-lab-20250105-test/truth-data/qrels.txt"
     ]
    }
   ],
   "source": [
    "Experiment(\n",
    "    [bm25_test, mono_results_test, duo_results_test],\n",
    "    topics = pt_dataset_test.get_topics('text').head(first_x_topics),\n",
    "    qrels = pt_dataset_test.get_qrels(),\n",
    "    eval_metrics =['ndcg_cut_10', 'map', 'recip_rank', 'P_1', 'P_5', 'P_10'],\n",
    "    names=[\"BM25\", \"monoT5\", \"duoT5\"],\n",
    "    round = 3,\n",
    "    baseline=0\n",
    ")"
   ]
  },
  {
   "cell_type": "code",
   "execution_count": 22,
   "metadata": {},
   "outputs": [],
   "source": [
    "from tira.third_party_integrations import persist_and_normalize_run"
   ]
  },
  {
   "cell_type": "code",
   "execution_count": null,
   "metadata": {},
   "outputs": [],
   "source": [
    "run = duo_results\n",
    "persist_and_normalize_run(\n",
    "    run,\n",
    "    # Give your approach a short but descriptive name tag.\n",
    "    system_name='duoT5-suchMaschinen', \n",
    "    default_output='../data/runs',\n",
    "    upload_to_tira=pt_dataset,\n",
    ")"
   ]
  },
  {
   "cell_type": "code",
   "execution_count": 28,
   "metadata": {},
   "outputs": [
    {
     "name": "stdout",
     "output_type": "stream",
     "text": [
      "The run file is normalized outside the TIRA sandbox, I will store it at \"../data/runs\".\n",
      "Done. run file is stored under \"../data/runs/run.txt.gz\".\n",
      "Run uploaded to TIRA. Claim ownership via: https://www.tira.io/claim-submission/09321404-ea76-4c26-adb5-fe92aa2b9cd7\n"
     ]
    }
   ],
   "source": [
    "run = duo_results_new\n",
    "persist_and_normalize_run(\n",
    "    run,\n",
    "    # Give your approach a short but descriptive name tag.\n",
    "    system_name='duoT5-suchMaschinen', \n",
    "    default_output='../data/runs',\n",
    "    upload_to_tira=pt_dataset_new,\n",
    ")"
   ]
  },
  {
   "cell_type": "code",
   "execution_count": 23,
   "metadata": {},
   "outputs": [
    {
     "name": "stdout",
     "output_type": "stream",
     "text": [
      "The run file is normalized outside the TIRA sandbox, I will store it at \"../data/runs\".\n",
      "Done. run file is stored under \"../data/runs/run.txt.gz\".\n",
      "Run uploaded to TIRA. Claim ownership via: https://www.tira.io/claim-submission/2a1abc71-fb60-45b4-aca3-fe563cb127ae\n"
     ]
    }
   ],
   "source": [
    "run = duo_only_new\n",
    "persist_and_normalize_run(\n",
    "    run,\n",
    "    # Give your approach a short but descriptive name tag.\n",
    "    system_name='duoT5-suchMaschinen', \n",
    "    default_output='../data/runs',\n",
    "    upload_to_tira=pt_dataset_new,\n",
    ")"
   ]
  },
  {
   "cell_type": "code",
   "execution_count": 20,
   "metadata": {},
   "outputs": [
    {
     "name": "stdout",
     "output_type": "stream",
     "text": [
      "The run file is normalized outside the TIRA sandbox, I will store it at \"../data/runs\".\n",
      "Done. run file is stored under \"../data/runs/run.txt.gz\".\n",
      "Run uploaded to TIRA. Claim ownership via: https://www.tira.io/claim-submission/fc8d9efc-d2e8-4286-9803-49e3a5b7abe0\n"
     ]
    }
   ],
   "source": [
    "run = duo_results_test\n",
    "persist_and_normalize_run(\n",
    "    run,\n",
    "    # Give your approach a short but descriptive name tag.\n",
    "    system_name='duoT5-suchMaschinen', \n",
    "    default_output='../data/runs',\n",
    "    upload_to_tira=pt_dataset_test,\n",
    ")"
   ]
  },
  {
   "cell_type": "code",
   "execution_count": 21,
   "metadata": {},
   "outputs": [
    {
     "data": {
      "text/html": [
       "<div>\n",
       "<style scoped>\n",
       "    .dataframe tbody tr th:only-of-type {\n",
       "        vertical-align: middle;\n",
       "    }\n",
       "\n",
       "    .dataframe tbody tr th {\n",
       "        vertical-align: top;\n",
       "    }\n",
       "\n",
       "    .dataframe thead th {\n",
       "        text-align: right;\n",
       "    }\n",
       "</style>\n",
       "<table border=\"1\" class=\"dataframe\">\n",
       "  <thead>\n",
       "    <tr style=\"text-align: right;\">\n",
       "      <th></th>\n",
       "      <th>qid</th>\n",
       "      <th>docid</th>\n",
       "      <th>docno</th>\n",
       "      <th>score</th>\n",
       "      <th>query</th>\n",
       "      <th>rank</th>\n",
       "      <th>system</th>\n",
       "    </tr>\n",
       "  </thead>\n",
       "  <tbody>\n",
       "    <tr>\n",
       "      <th>0</th>\n",
       "      <td>34</td>\n",
       "      <td>11566</td>\n",
       "      <td>msmarco_v2.1_doc_39_941719527#3_1917293465</td>\n",
       "      <td>-37.446684</td>\n",
       "      <td>latex color box</td>\n",
       "      <td>9</td>\n",
       "      <td>duoT5-suchMaschinen</td>\n",
       "    </tr>\n",
       "    <tr>\n",
       "      <th>1</th>\n",
       "      <td>34</td>\n",
       "      <td>2412</td>\n",
       "      <td>msmarco_v2.1_doc_04_419588853#1_964846092</td>\n",
       "      <td>-16.837480</td>\n",
       "      <td>latex color box</td>\n",
       "      <td>8</td>\n",
       "      <td>duoT5-suchMaschinen</td>\n",
       "    </tr>\n",
       "    <tr>\n",
       "      <th>2</th>\n",
       "      <td>34</td>\n",
       "      <td>15189</td>\n",
       "      <td>msmarco_v2.1_doc_35_646302716#1_1612812263</td>\n",
       "      <td>-9.527254</td>\n",
       "      <td>latex color box</td>\n",
       "      <td>7</td>\n",
       "      <td>duoT5-suchMaschinen</td>\n",
       "    </tr>\n",
       "    <tr>\n",
       "      <th>3</th>\n",
       "      <td>34</td>\n",
       "      <td>9419</td>\n",
       "      <td>msmarco_v2.1_doc_04_419588853#2_964848174</td>\n",
       "      <td>14.961450</td>\n",
       "      <td>latex color box</td>\n",
       "      <td>5</td>\n",
       "      <td>duoT5-suchMaschinen</td>\n",
       "    </tr>\n",
       "    <tr>\n",
       "      <th>4</th>\n",
       "      <td>34</td>\n",
       "      <td>8629</td>\n",
       "      <td>msmarco_v2.1_doc_14_683626601#2_1411816599</td>\n",
       "      <td>18.883408</td>\n",
       "      <td>latex color box</td>\n",
       "      <td>4</td>\n",
       "      <td>duoT5-suchMaschinen</td>\n",
       "    </tr>\n",
       "    <tr>\n",
       "      <th>...</th>\n",
       "      <td>...</td>\n",
       "      <td>...</td>\n",
       "      <td>...</td>\n",
       "      <td>...</td>\n",
       "      <td>...</td>\n",
       "      <td>...</td>\n",
       "      <td>...</td>\n",
       "    </tr>\n",
       "    <tr>\n",
       "      <th>455</th>\n",
       "      <td>7</td>\n",
       "      <td>26770</td>\n",
       "      <td>msmarco_v2.1_doc_21_267072906#2_604814556</td>\n",
       "      <td>10.185810</td>\n",
       "      <td>mental health impacts of social media</td>\n",
       "      <td>3</td>\n",
       "      <td>duoT5-suchMaschinen</td>\n",
       "    </tr>\n",
       "    <tr>\n",
       "      <th>456</th>\n",
       "      <td>7</td>\n",
       "      <td>22995</td>\n",
       "      <td>msmarco_v2.1_doc_21_267072906#5_604820005</td>\n",
       "      <td>7.416177</td>\n",
       "      <td>mental health impacts of social media</td>\n",
       "      <td>6</td>\n",
       "      <td>duoT5-suchMaschinen</td>\n",
       "    </tr>\n",
       "    <tr>\n",
       "      <th>457</th>\n",
       "      <td>7</td>\n",
       "      <td>21306</td>\n",
       "      <td>msmarco_v2.1_doc_21_267072906#6_604821707</td>\n",
       "      <td>4.965989</td>\n",
       "      <td>mental health impacts of social media</td>\n",
       "      <td>9</td>\n",
       "      <td>duoT5-suchMaschinen</td>\n",
       "    </tr>\n",
       "    <tr>\n",
       "      <th>458</th>\n",
       "      <td>7</td>\n",
       "      <td>82075</td>\n",
       "      <td>msmarco_v2.1_doc_21_267072906#14_604835951</td>\n",
       "      <td>9.098811</td>\n",
       "      <td>mental health impacts of social media</td>\n",
       "      <td>4</td>\n",
       "      <td>duoT5-suchMaschinen</td>\n",
       "    </tr>\n",
       "    <tr>\n",
       "      <th>459</th>\n",
       "      <td>7</td>\n",
       "      <td>4530</td>\n",
       "      <td>msmarco_v2.1_doc_21_267072906#4_604818136</td>\n",
       "      <td>6.998615</td>\n",
       "      <td>mental health impacts of social media</td>\n",
       "      <td>8</td>\n",
       "      <td>duoT5-suchMaschinen</td>\n",
       "    </tr>\n",
       "  </tbody>\n",
       "</table>\n",
       "<p>460 rows × 7 columns</p>\n",
       "</div>"
      ],
      "text/plain": [
       "     qid  docid                                       docno      score  \\\n",
       "0     34  11566  msmarco_v2.1_doc_39_941719527#3_1917293465 -37.446684   \n",
       "1     34   2412   msmarco_v2.1_doc_04_419588853#1_964846092 -16.837480   \n",
       "2     34  15189  msmarco_v2.1_doc_35_646302716#1_1612812263  -9.527254   \n",
       "3     34   9419   msmarco_v2.1_doc_04_419588853#2_964848174  14.961450   \n",
       "4     34   8629  msmarco_v2.1_doc_14_683626601#2_1411816599  18.883408   \n",
       "..   ...    ...                                         ...        ...   \n",
       "455    7  26770   msmarco_v2.1_doc_21_267072906#2_604814556  10.185810   \n",
       "456    7  22995   msmarco_v2.1_doc_21_267072906#5_604820005   7.416177   \n",
       "457    7  21306   msmarco_v2.1_doc_21_267072906#6_604821707   4.965989   \n",
       "458    7  82075  msmarco_v2.1_doc_21_267072906#14_604835951   9.098811   \n",
       "459    7   4530   msmarco_v2.1_doc_21_267072906#4_604818136   6.998615   \n",
       "\n",
       "                                     query  rank               system  \n",
       "0                          latex color box     9  duoT5-suchMaschinen  \n",
       "1                          latex color box     8  duoT5-suchMaschinen  \n",
       "2                          latex color box     7  duoT5-suchMaschinen  \n",
       "3                          latex color box     5  duoT5-suchMaschinen  \n",
       "4                          latex color box     4  duoT5-suchMaschinen  \n",
       "..                                     ...   ...                  ...  \n",
       "455  mental health impacts of social media     3  duoT5-suchMaschinen  \n",
       "456  mental health impacts of social media     6  duoT5-suchMaschinen  \n",
       "457  mental health impacts of social media     9  duoT5-suchMaschinen  \n",
       "458  mental health impacts of social media     4  duoT5-suchMaschinen  \n",
       "459  mental health impacts of social media     8  duoT5-suchMaschinen  \n",
       "\n",
       "[460 rows x 7 columns]"
      ]
     },
     "execution_count": 21,
     "metadata": {},
     "output_type": "execute_result"
    }
   ],
   "source": [
    "duo_results_test"
   ]
  },
  {
   "cell_type": "code",
   "execution_count": null,
   "metadata": {},
   "outputs": [],
   "source": []
  }
 ],
 "metadata": {
  "kernelspec": {
   "display_name": "ir",
   "language": "python",
   "name": "python3"
  },
  "language_info": {
   "codemirror_mode": {
    "name": "ipython",
    "version": 3
   },
   "file_extension": ".py",
   "mimetype": "text/x-python",
   "name": "python",
   "nbconvert_exporter": "python",
   "pygments_lexer": "ipython3",
   "version": "3.10.15"
  }
 },
 "nbformat": 4,
 "nbformat_minor": 2
}
