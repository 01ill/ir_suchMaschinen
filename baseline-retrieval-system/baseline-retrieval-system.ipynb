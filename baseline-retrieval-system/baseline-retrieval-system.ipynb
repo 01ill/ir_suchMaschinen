{
 "cells": [
  {
   "cell_type": "markdown",
   "metadata": {},
   "source": [
    "# Information Retrieval Lab WiSe 2024/2025: Baseline Retrieval System\n",
    "\n",
    "This Jupyter notebook serves as a baseline retrieval system that you can improve upon.\n",
    "We use subsets of the MS MARCO datasets to retrieve passages of web documents.\n",
    "We will show you how to create a software submission to TIRA from this notebook.\n",
    "\n",
    "An overview of all corpora that we use in the current course is available at [https://tira.io/datasets?query=ir-lab-wise-2024](https://tira.io/datasets?query=ir-lab-wise-2024). The dataset IDs for loading the datasets are:\n",
    "\n",
    "- `ir-lab-wise-2024/subsampled-ms-marco-deep-learning-20241201-training`: A subsample of the TREC 2019/2020 Deep Learning tracks on the MS MARCO v1 passage dataset. Use this dataset to tune your system(s).\n",
    "- `ir-lab-wise-2024/subsampled-ms-marco-rag-20241202-training` (_work in progress_): A subsample of the TREC 2024 Retrieval-Augmented Generation track on the MS MARCO v2.1 passage dataset. Use this dataset to tune your system(s).\n",
    "- `ir-lab-wise-2024/ms-marco-rag-20241203-test` (work in progress): The test corpus that we have created together in the course, based on the MS MARCO v2.1 passage dataset. We will use this dataset as the test dataset, i.e., evaluation scores become available only after the submission deadline."
   ]
  },
  {
   "cell_type": "markdown",
   "metadata": {},
   "source": [
    "### Step 1: Import libraries\n",
    "\n",
    "We will use [tira](https://tira.io/), an information retrieval shared task platform, and [ir_dataset](https://ir-datasets.com/) for loading the datasets. Subsequently, we will build a retrieval system with [PyTerrier](https://github.com/terrier-org/pyterrier), an open-source search engine framework."
   ]
  },
  {
   "cell_type": "markdown",
   "metadata": {},
   "source": [
    "First, we need to install the required libraries."
   ]
  },
  {
   "cell_type": "code",
   "execution_count": 1,
   "metadata": {},
   "outputs": [
    {
     "name": "stdout",
     "output_type": "stream",
     "text": [
      "Requirement already satisfied: tira>=0.0.139 in /opt/homebrew/Caskroom/miniconda/base/envs/ir/lib/python3.10/site-packages (0.0.139)\n",
      "Requirement already satisfied: ir-datasets in /opt/homebrew/Caskroom/miniconda/base/envs/ir/lib/python3.10/site-packages (0.5.9)\n",
      "Collecting python-terrier==0.10.0\n",
      "  Using cached python_terrier-0.10.0-py3-none-any.whl\n",
      "Requirement already satisfied: numpy in /opt/homebrew/Caskroom/miniconda/base/envs/ir/lib/python3.10/site-packages (from python-terrier==0.10.0) (1.26.4)\n",
      "Requirement already satisfied: pandas in /opt/homebrew/Caskroom/miniconda/base/envs/ir/lib/python3.10/site-packages (from python-terrier==0.10.0) (2.2.3)\n",
      "Requirement already satisfied: wget in /opt/homebrew/Caskroom/miniconda/base/envs/ir/lib/python3.10/site-packages (from python-terrier==0.10.0) (3.2)\n",
      "Requirement already satisfied: tqdm in /opt/homebrew/Caskroom/miniconda/base/envs/ir/lib/python3.10/site-packages (from python-terrier==0.10.0) (4.67.1)\n",
      "Requirement already satisfied: pyjnius>=1.4.2 in /opt/homebrew/Caskroom/miniconda/base/envs/ir/lib/python3.10/site-packages (from python-terrier==0.10.0) (1.6.1)\n",
      "Requirement already satisfied: matchpy in /opt/homebrew/Caskroom/miniconda/base/envs/ir/lib/python3.10/site-packages (from python-terrier==0.10.0) (0.5.5)\n",
      "Requirement already satisfied: scikit-learn in /opt/homebrew/Caskroom/miniconda/base/envs/ir/lib/python3.10/site-packages (from python-terrier==0.10.0) (1.5.2)\n",
      "Requirement already satisfied: deprecated in /opt/homebrew/Caskroom/miniconda/base/envs/ir/lib/python3.10/site-packages (from python-terrier==0.10.0) (1.2.15)\n",
      "Requirement already satisfied: chest in /opt/homebrew/Caskroom/miniconda/base/envs/ir/lib/python3.10/site-packages (from python-terrier==0.10.0) (0.2.3)\n",
      "Requirement already satisfied: scipy in /opt/homebrew/Caskroom/miniconda/base/envs/ir/lib/python3.10/site-packages (from python-terrier==0.10.0) (1.14.1)\n",
      "Requirement already satisfied: requests in /opt/homebrew/Caskroom/miniconda/base/envs/ir/lib/python3.10/site-packages (from python-terrier==0.10.0) (2.32.3)\n",
      "Requirement already satisfied: joblib in /opt/homebrew/Caskroom/miniconda/base/envs/ir/lib/python3.10/site-packages (from python-terrier==0.10.0) (1.4.2)\n",
      "Requirement already satisfied: nptyping==1.4.4 in /opt/homebrew/Caskroom/miniconda/base/envs/ir/lib/python3.10/site-packages (from python-terrier==0.10.0) (1.4.4)\n",
      "Requirement already satisfied: more-itertools in /opt/homebrew/Caskroom/miniconda/base/envs/ir/lib/python3.10/site-packages (from python-terrier==0.10.0) (10.5.0)\n",
      "Requirement already satisfied: jinja2 in /opt/homebrew/Caskroom/miniconda/base/envs/ir/lib/python3.10/site-packages (from python-terrier==0.10.0) (3.1.4)\n",
      "Requirement already satisfied: statsmodels in /opt/homebrew/Caskroom/miniconda/base/envs/ir/lib/python3.10/site-packages (from python-terrier==0.10.0) (0.14.4)\n",
      "Requirement already satisfied: ir-measures>=0.3.1 in /opt/homebrew/Caskroom/miniconda/base/envs/ir/lib/python3.10/site-packages (from python-terrier==0.10.0) (0.3.6)\n",
      "Requirement already satisfied: dill in /opt/homebrew/Caskroom/miniconda/base/envs/ir/lib/python3.10/site-packages (from python-terrier==0.10.0) (0.3.9)\n",
      "Requirement already satisfied: pytrec-eval-terrier>=0.5.3 in /opt/homebrew/Caskroom/miniconda/base/envs/ir/lib/python3.10/site-packages (from python-terrier==0.10.0) (0.5.6)\n",
      "Requirement already satisfied: typish>=1.7.0 in /opt/homebrew/Caskroom/miniconda/base/envs/ir/lib/python3.10/site-packages (from nptyping==1.4.4->python-terrier==0.10.0) (1.9.3)\n",
      "Requirement already satisfied: docker==7.*,>=7.1.0 in /opt/homebrew/Caskroom/miniconda/base/envs/ir/lib/python3.10/site-packages (from tira>=0.0.139) (7.1.0)\n",
      "Requirement already satisfied: packaging in /opt/homebrew/Caskroom/miniconda/base/envs/ir/lib/python3.10/site-packages (from tira>=0.0.139) (24.2)\n",
      "Requirement already satisfied: urllib3>=1.26.0 in /opt/homebrew/Caskroom/miniconda/base/envs/ir/lib/python3.10/site-packages (from docker==7.*,>=7.1.0->tira>=0.0.139) (2.2.3)\n",
      "Requirement already satisfied: charset-normalizer<4,>=2 in /opt/homebrew/Caskroom/miniconda/base/envs/ir/lib/python3.10/site-packages (from requests->python-terrier==0.10.0) (3.4.0)\n",
      "Requirement already satisfied: idna<4,>=2.5 in /opt/homebrew/Caskroom/miniconda/base/envs/ir/lib/python3.10/site-packages (from requests->python-terrier==0.10.0) (3.10)\n",
      "Requirement already satisfied: certifi>=2017.4.17 in /opt/homebrew/Caskroom/miniconda/base/envs/ir/lib/python3.10/site-packages (from requests->python-terrier==0.10.0) (2024.8.30)\n",
      "Requirement already satisfied: beautifulsoup4>=4.4.1 in /opt/homebrew/Caskroom/miniconda/base/envs/ir/lib/python3.10/site-packages (from ir-datasets) (4.12.3)\n",
      "Requirement already satisfied: inscriptis>=2.2.0 in /opt/homebrew/Caskroom/miniconda/base/envs/ir/lib/python3.10/site-packages (from ir-datasets) (2.5.0)\n",
      "Requirement already satisfied: lxml>=4.5.2 in /opt/homebrew/Caskroom/miniconda/base/envs/ir/lib/python3.10/site-packages (from ir-datasets) (5.3.0)\n",
      "Requirement already satisfied: pyyaml>=5.3.1 in /opt/homebrew/Caskroom/miniconda/base/envs/ir/lib/python3.10/site-packages (from ir-datasets) (6.0.2)\n",
      "Requirement already satisfied: trec-car-tools>=2.5.4 in /opt/homebrew/Caskroom/miniconda/base/envs/ir/lib/python3.10/site-packages (from ir-datasets) (2.6)\n",
      "Requirement already satisfied: lz4>=3.1.10 in /opt/homebrew/Caskroom/miniconda/base/envs/ir/lib/python3.10/site-packages (from ir-datasets) (4.3.3)\n",
      "Requirement already satisfied: warc3-wet>=0.2.3 in /opt/homebrew/Caskroom/miniconda/base/envs/ir/lib/python3.10/site-packages (from ir-datasets) (0.2.5)\n",
      "Requirement already satisfied: warc3-wet-clueweb09>=0.2.5 in /opt/homebrew/Caskroom/miniconda/base/envs/ir/lib/python3.10/site-packages (from ir-datasets) (0.2.5)\n",
      "Requirement already satisfied: zlib-state>=0.1.3 in /opt/homebrew/Caskroom/miniconda/base/envs/ir/lib/python3.10/site-packages (from ir-datasets) (0.1.9)\n",
      "Requirement already satisfied: ijson>=3.1.3 in /opt/homebrew/Caskroom/miniconda/base/envs/ir/lib/python3.10/site-packages (from ir-datasets) (3.3.0)\n",
      "Requirement already satisfied: unlzw3>=0.2.1 in /opt/homebrew/Caskroom/miniconda/base/envs/ir/lib/python3.10/site-packages (from ir-datasets) (0.2.2)\n",
      "Requirement already satisfied: soupsieve>1.2 in /opt/homebrew/Caskroom/miniconda/base/envs/ir/lib/python3.10/site-packages (from beautifulsoup4>=4.4.1->ir-datasets) (2.6)\n",
      "Requirement already satisfied: cbor>=1.0.0 in /opt/homebrew/Caskroom/miniconda/base/envs/ir/lib/python3.10/site-packages (from trec-car-tools>=2.5.4->ir-datasets) (1.0.0)\n",
      "Requirement already satisfied: heapdict in /opt/homebrew/Caskroom/miniconda/base/envs/ir/lib/python3.10/site-packages (from chest->python-terrier==0.10.0) (1.0.1)\n",
      "Requirement already satisfied: wrapt<2,>=1.10 in /opt/homebrew/Caskroom/miniconda/base/envs/ir/lib/python3.10/site-packages (from deprecated->python-terrier==0.10.0) (1.17.0)\n",
      "Requirement already satisfied: MarkupSafe>=2.0 in /opt/homebrew/Caskroom/miniconda/base/envs/ir/lib/python3.10/site-packages (from jinja2->python-terrier==0.10.0) (3.0.2)\n",
      "Requirement already satisfied: multiset<3.0,>=2.0 in /opt/homebrew/Caskroom/miniconda/base/envs/ir/lib/python3.10/site-packages (from matchpy->python-terrier==0.10.0) (2.1.1)\n",
      "Requirement already satisfied: python-dateutil>=2.8.2 in /opt/homebrew/Caskroom/miniconda/base/envs/ir/lib/python3.10/site-packages (from pandas->python-terrier==0.10.0) (2.9.0.post0)\n",
      "Requirement already satisfied: pytz>=2020.1 in /opt/homebrew/Caskroom/miniconda/base/envs/ir/lib/python3.10/site-packages (from pandas->python-terrier==0.10.0) (2024.2)\n",
      "Requirement already satisfied: tzdata>=2022.7 in /opt/homebrew/Caskroom/miniconda/base/envs/ir/lib/python3.10/site-packages (from pandas->python-terrier==0.10.0) (2024.2)\n",
      "Requirement already satisfied: threadpoolctl>=3.1.0 in /opt/homebrew/Caskroom/miniconda/base/envs/ir/lib/python3.10/site-packages (from scikit-learn->python-terrier==0.10.0) (3.5.0)\n",
      "Requirement already satisfied: patsy>=0.5.6 in /opt/homebrew/Caskroom/miniconda/base/envs/ir/lib/python3.10/site-packages (from statsmodels->python-terrier==0.10.0) (1.0.1)\n",
      "Requirement already satisfied: six>=1.5 in /opt/homebrew/Caskroom/miniconda/base/envs/ir/lib/python3.10/site-packages (from python-dateutil>=2.8.2->pandas->python-terrier==0.10.0) (1.17.0)\n",
      "Installing collected packages: python-terrier\n",
      "  Attempting uninstall: python-terrier\n",
      "    Found existing installation: python-terrier 0.12.0\n",
      "    Uninstalling python-terrier-0.12.0:\n",
      "      Successfully uninstalled python-terrier-0.12.0\n",
      "\u001b[31mERROR: pip's dependency resolver does not currently take into account all the packages that are installed. This behaviour is the source of the following dependency conflicts.\n",
      "pyterrier-caching 0.2.2 requires python-terrier>=0.11.0, but you have python-terrier 0.10.0 which is incompatible.\u001b[0m\u001b[31m\n",
      "\u001b[0mSuccessfully installed python-terrier-0.10.0\n",
      "Requirement already satisfied: pyterrier-caching in /opt/homebrew/Caskroom/miniconda/base/envs/ir/lib/python3.10/site-packages (0.2.2)\n",
      "Requirement already satisfied: pyterrier_t5 in /opt/homebrew/Caskroom/miniconda/base/envs/ir/lib/python3.10/site-packages (0.1.0)\n",
      "Collecting python-terrier>=0.11.0 (from pyterrier-caching)\n",
      "  Using cached python_terrier-0.12.0-py3-none-any.whl.metadata (11 kB)\n",
      "Requirement already satisfied: pyterrier-alpha>=0.9.4 in /opt/homebrew/Caskroom/miniconda/base/envs/ir/lib/python3.10/site-packages (from pyterrier-caching) (0.11.1)\n",
      "Requirement already satisfied: lz4 in /opt/homebrew/Caskroom/miniconda/base/envs/ir/lib/python3.10/site-packages (from pyterrier-caching) (4.3.3)\n",
      "Requirement already satisfied: numpy<2.0.0 in /opt/homebrew/Caskroom/miniconda/base/envs/ir/lib/python3.10/site-packages (from pyterrier-caching) (1.26.4)\n",
      "Requirement already satisfied: npids>=0.0.7 in /opt/homebrew/Caskroom/miniconda/base/envs/ir/lib/python3.10/site-packages (from pyterrier-caching) (0.0.7)\n",
      "Requirement already satisfied: h5py in /opt/homebrew/Caskroom/miniconda/base/envs/ir/lib/python3.10/site-packages (from pyterrier-caching) (3.12.1)\n",
      "Requirement already satisfied: deprecated in /opt/homebrew/Caskroom/miniconda/base/envs/ir/lib/python3.10/site-packages (from pyterrier-caching) (1.2.15)\n",
      "Requirement already satisfied: transformers>=4.0.0 in /opt/homebrew/Caskroom/miniconda/base/envs/ir/lib/python3.10/site-packages (from pyterrier_t5) (4.47.0)\n",
      "Requirement already satisfied: torch in /opt/homebrew/Caskroom/miniconda/base/envs/ir/lib/python3.10/site-packages (from pyterrier_t5) (2.5.1)\n",
      "Requirement already satisfied: sentencepiece>=0.1.95 in /opt/homebrew/Caskroom/miniconda/base/envs/ir/lib/python3.10/site-packages (from pyterrier_t5) (0.2.0)\n",
      "Requirement already satisfied: colaburl in /opt/homebrew/Caskroom/miniconda/base/envs/ir/lib/python3.10/site-packages (from pyterrier-alpha>=0.9.4->pyterrier-caching) (0.1.0)\n",
      "Requirement already satisfied: pandas in /opt/homebrew/Caskroom/miniconda/base/envs/ir/lib/python3.10/site-packages (from python-terrier>=0.11.0->pyterrier-caching) (2.2.3)\n",
      "Requirement already satisfied: more-itertools in /opt/homebrew/Caskroom/miniconda/base/envs/ir/lib/python3.10/site-packages (from python-terrier>=0.11.0->pyterrier-caching) (10.5.0)\n",
      "Requirement already satisfied: tqdm in /opt/homebrew/Caskroom/miniconda/base/envs/ir/lib/python3.10/site-packages (from python-terrier>=0.11.0->pyterrier-caching) (4.67.1)\n",
      "Requirement already satisfied: requests in /opt/homebrew/Caskroom/miniconda/base/envs/ir/lib/python3.10/site-packages (from python-terrier>=0.11.0->pyterrier-caching) (2.32.3)\n",
      "Requirement already satisfied: ir-datasets>=0.3.2 in /opt/homebrew/Caskroom/miniconda/base/envs/ir/lib/python3.10/site-packages (from python-terrier>=0.11.0->pyterrier-caching) (0.5.9)\n",
      "Requirement already satisfied: wget in /opt/homebrew/Caskroom/miniconda/base/envs/ir/lib/python3.10/site-packages (from python-terrier>=0.11.0->pyterrier-caching) (3.2)\n",
      "Requirement already satisfied: pyjnius>=1.4.2 in /opt/homebrew/Caskroom/miniconda/base/envs/ir/lib/python3.10/site-packages (from python-terrier>=0.11.0->pyterrier-caching) (1.6.1)\n",
      "Requirement already satisfied: scipy in /opt/homebrew/Caskroom/miniconda/base/envs/ir/lib/python3.10/site-packages (from python-terrier>=0.11.0->pyterrier-caching) (1.14.1)\n",
      "Requirement already satisfied: ir-measures>=0.3.1 in /opt/homebrew/Caskroom/miniconda/base/envs/ir/lib/python3.10/site-packages (from python-terrier>=0.11.0->pyterrier-caching) (0.3.6)\n",
      "Requirement already satisfied: pytrec-eval-terrier>=0.5.3 in /opt/homebrew/Caskroom/miniconda/base/envs/ir/lib/python3.10/site-packages (from python-terrier>=0.11.0->pyterrier-caching) (0.5.6)\n",
      "Requirement already satisfied: jinja2 in /opt/homebrew/Caskroom/miniconda/base/envs/ir/lib/python3.10/site-packages (from python-terrier>=0.11.0->pyterrier-caching) (3.1.4)\n",
      "Requirement already satisfied: statsmodels in /opt/homebrew/Caskroom/miniconda/base/envs/ir/lib/python3.10/site-packages (from python-terrier>=0.11.0->pyterrier-caching) (0.14.4)\n",
      "Requirement already satisfied: dill in /opt/homebrew/Caskroom/miniconda/base/envs/ir/lib/python3.10/site-packages (from python-terrier>=0.11.0->pyterrier-caching) (0.3.9)\n",
      "Requirement already satisfied: joblib in /opt/homebrew/Caskroom/miniconda/base/envs/ir/lib/python3.10/site-packages (from python-terrier>=0.11.0->pyterrier-caching) (1.4.2)\n",
      "Requirement already satisfied: chest in /opt/homebrew/Caskroom/miniconda/base/envs/ir/lib/python3.10/site-packages (from python-terrier>=0.11.0->pyterrier-caching) (0.2.3)\n",
      "Requirement already satisfied: filelock in /opt/homebrew/Caskroom/miniconda/base/envs/ir/lib/python3.10/site-packages (from transformers>=4.0.0->pyterrier_t5) (3.16.1)\n",
      "Requirement already satisfied: huggingface-hub<1.0,>=0.24.0 in /opt/homebrew/Caskroom/miniconda/base/envs/ir/lib/python3.10/site-packages (from transformers>=4.0.0->pyterrier_t5) (0.26.5)\n",
      "Requirement already satisfied: packaging>=20.0 in /opt/homebrew/Caskroom/miniconda/base/envs/ir/lib/python3.10/site-packages (from transformers>=4.0.0->pyterrier_t5) (24.2)\n",
      "Requirement already satisfied: pyyaml>=5.1 in /opt/homebrew/Caskroom/miniconda/base/envs/ir/lib/python3.10/site-packages (from transformers>=4.0.0->pyterrier_t5) (6.0.2)\n",
      "Requirement already satisfied: regex!=2019.12.17 in /opt/homebrew/Caskroom/miniconda/base/envs/ir/lib/python3.10/site-packages (from transformers>=4.0.0->pyterrier_t5) (2024.11.6)\n",
      "Requirement already satisfied: tokenizers<0.22,>=0.21 in /opt/homebrew/Caskroom/miniconda/base/envs/ir/lib/python3.10/site-packages (from transformers>=4.0.0->pyterrier_t5) (0.21.0)\n",
      "Requirement already satisfied: safetensors>=0.4.1 in /opt/homebrew/Caskroom/miniconda/base/envs/ir/lib/python3.10/site-packages (from transformers>=4.0.0->pyterrier_t5) (0.4.5)\n",
      "Requirement already satisfied: wrapt<2,>=1.10 in /opt/homebrew/Caskroom/miniconda/base/envs/ir/lib/python3.10/site-packages (from deprecated->pyterrier-caching) (1.17.0)\n",
      "Requirement already satisfied: typing-extensions>=4.8.0 in /opt/homebrew/Caskroom/miniconda/base/envs/ir/lib/python3.10/site-packages (from torch->pyterrier_t5) (4.12.2)\n",
      "Requirement already satisfied: networkx in /opt/homebrew/Caskroom/miniconda/base/envs/ir/lib/python3.10/site-packages (from torch->pyterrier_t5) (3.4.2)\n",
      "Requirement already satisfied: fsspec in /opt/homebrew/Caskroom/miniconda/base/envs/ir/lib/python3.10/site-packages (from torch->pyterrier_t5) (2024.10.0)\n",
      "Requirement already satisfied: sympy==1.13.1 in /opt/homebrew/Caskroom/miniconda/base/envs/ir/lib/python3.10/site-packages (from torch->pyterrier_t5) (1.13.1)\n",
      "Requirement already satisfied: mpmath<1.4,>=1.1.0 in /opt/homebrew/Caskroom/miniconda/base/envs/ir/lib/python3.10/site-packages (from sympy==1.13.1->torch->pyterrier_t5) (1.3.0)\n",
      "Requirement already satisfied: beautifulsoup4>=4.4.1 in /opt/homebrew/Caskroom/miniconda/base/envs/ir/lib/python3.10/site-packages (from ir-datasets>=0.3.2->python-terrier>=0.11.0->pyterrier-caching) (4.12.3)\n",
      "Requirement already satisfied: inscriptis>=2.2.0 in /opt/homebrew/Caskroom/miniconda/base/envs/ir/lib/python3.10/site-packages (from ir-datasets>=0.3.2->python-terrier>=0.11.0->pyterrier-caching) (2.5.0)\n",
      "Requirement already satisfied: lxml>=4.5.2 in /opt/homebrew/Caskroom/miniconda/base/envs/ir/lib/python3.10/site-packages (from ir-datasets>=0.3.2->python-terrier>=0.11.0->pyterrier-caching) (5.3.0)\n",
      "Requirement already satisfied: trec-car-tools>=2.5.4 in /opt/homebrew/Caskroom/miniconda/base/envs/ir/lib/python3.10/site-packages (from ir-datasets>=0.3.2->python-terrier>=0.11.0->pyterrier-caching) (2.6)\n",
      "Requirement already satisfied: warc3-wet>=0.2.3 in /opt/homebrew/Caskroom/miniconda/base/envs/ir/lib/python3.10/site-packages (from ir-datasets>=0.3.2->python-terrier>=0.11.0->pyterrier-caching) (0.2.5)\n",
      "Requirement already satisfied: warc3-wet-clueweb09>=0.2.5 in /opt/homebrew/Caskroom/miniconda/base/envs/ir/lib/python3.10/site-packages (from ir-datasets>=0.3.2->python-terrier>=0.11.0->pyterrier-caching) (0.2.5)\n",
      "Requirement already satisfied: zlib-state>=0.1.3 in /opt/homebrew/Caskroom/miniconda/base/envs/ir/lib/python3.10/site-packages (from ir-datasets>=0.3.2->python-terrier>=0.11.0->pyterrier-caching) (0.1.9)\n",
      "Requirement already satisfied: ijson>=3.1.3 in /opt/homebrew/Caskroom/miniconda/base/envs/ir/lib/python3.10/site-packages (from ir-datasets>=0.3.2->python-terrier>=0.11.0->pyterrier-caching) (3.3.0)\n",
      "Requirement already satisfied: unlzw3>=0.2.1 in /opt/homebrew/Caskroom/miniconda/base/envs/ir/lib/python3.10/site-packages (from ir-datasets>=0.3.2->python-terrier>=0.11.0->pyterrier-caching) (0.2.2)\n",
      "Requirement already satisfied: charset-normalizer<4,>=2 in /opt/homebrew/Caskroom/miniconda/base/envs/ir/lib/python3.10/site-packages (from requests->python-terrier>=0.11.0->pyterrier-caching) (3.4.0)\n",
      "Requirement already satisfied: idna<4,>=2.5 in /opt/homebrew/Caskroom/miniconda/base/envs/ir/lib/python3.10/site-packages (from requests->python-terrier>=0.11.0->pyterrier-caching) (3.10)\n",
      "Requirement already satisfied: urllib3<3,>=1.21.1 in /opt/homebrew/Caskroom/miniconda/base/envs/ir/lib/python3.10/site-packages (from requests->python-terrier>=0.11.0->pyterrier-caching) (2.2.3)\n",
      "Requirement already satisfied: certifi>=2017.4.17 in /opt/homebrew/Caskroom/miniconda/base/envs/ir/lib/python3.10/site-packages (from requests->python-terrier>=0.11.0->pyterrier-caching) (2024.8.30)\n",
      "Requirement already satisfied: heapdict in /opt/homebrew/Caskroom/miniconda/base/envs/ir/lib/python3.10/site-packages (from chest->python-terrier>=0.11.0->pyterrier-caching) (1.0.1)\n",
      "Requirement already satisfied: MarkupSafe>=2.0 in /opt/homebrew/Caskroom/miniconda/base/envs/ir/lib/python3.10/site-packages (from jinja2->python-terrier>=0.11.0->pyterrier-caching) (3.0.2)\n",
      "Requirement already satisfied: python-dateutil>=2.8.2 in /opt/homebrew/Caskroom/miniconda/base/envs/ir/lib/python3.10/site-packages (from pandas->python-terrier>=0.11.0->pyterrier-caching) (2.9.0.post0)\n",
      "Requirement already satisfied: pytz>=2020.1 in /opt/homebrew/Caskroom/miniconda/base/envs/ir/lib/python3.10/site-packages (from pandas->python-terrier>=0.11.0->pyterrier-caching) (2024.2)\n",
      "Requirement already satisfied: tzdata>=2022.7 in /opt/homebrew/Caskroom/miniconda/base/envs/ir/lib/python3.10/site-packages (from pandas->python-terrier>=0.11.0->pyterrier-caching) (2024.2)\n",
      "Requirement already satisfied: patsy>=0.5.6 in /opt/homebrew/Caskroom/miniconda/base/envs/ir/lib/python3.10/site-packages (from statsmodels->python-terrier>=0.11.0->pyterrier-caching) (1.0.1)\n",
      "Requirement already satisfied: soupsieve>1.2 in /opt/homebrew/Caskroom/miniconda/base/envs/ir/lib/python3.10/site-packages (from beautifulsoup4>=4.4.1->ir-datasets>=0.3.2->python-terrier>=0.11.0->pyterrier-caching) (2.6)\n",
      "Requirement already satisfied: six>=1.5 in /opt/homebrew/Caskroom/miniconda/base/envs/ir/lib/python3.10/site-packages (from python-dateutil>=2.8.2->pandas->python-terrier>=0.11.0->pyterrier-caching) (1.17.0)\n",
      "Requirement already satisfied: cbor>=1.0.0 in /opt/homebrew/Caskroom/miniconda/base/envs/ir/lib/python3.10/site-packages (from trec-car-tools>=2.5.4->ir-datasets>=0.3.2->python-terrier>=0.11.0->pyterrier-caching) (1.0.0)\n",
      "Using cached python_terrier-0.12.0-py3-none-any.whl (145 kB)\n",
      "Installing collected packages: python-terrier\n",
      "  Attempting uninstall: python-terrier\n",
      "    Found existing installation: python-terrier 0.10.0\n",
      "    Uninstalling python-terrier-0.10.0:\n",
      "      Successfully uninstalled python-terrier-0.10.0\n",
      "Successfully installed python-terrier-0.12.0\n"
     ]
    }
   ],
   "source": [
    "!pip3 install 'tira>=0.0.139' ir-datasets 'python-terrier==0.10.0' \n",
    "!pip3 install --upgrade pyterrier-caching pyterrier_t5\n",
    "# !pip3 install --upgrade git+https://github.com/terrierteam/pyterrier_t5.git"
   ]
  },
  {
   "cell_type": "markdown",
   "metadata": {},
   "source": [
    "Create an API client to interact with the TIRA platform (e.g., to load datasets and submit runs)."
   ]
  },
  {
   "cell_type": "code",
   "execution_count": null,
   "metadata": {},
   "outputs": [
    {
     "name": "stdout",
     "output_type": "stream",
     "text": [
      "terrier-assemblies 5.10 jar-with-dependencies not found, downloading to /Users/till/.pyterrier...\n",
      "Done\n",
      "terrier-python-helper 0.0.8 jar not found, downloading to /Users/till/.pyterrier...\n",
      "Done\n"
     ]
    },
    {
     "name": "stderr",
     "output_type": "stream",
     "text": [
      "Java started and loaded: pyterrier.java, pyterrier.terrier.java [version=5.10 (build: craigm 2024-08-22 17:33), helper_version=0.0.8]\n",
      "/var/folders/2z/hftmcxnx6857z5y2jcyv934h0000gn/T/ipykernel_43600/3276418669.py:5: DeprecationWarning: Call to deprecated method pt.init(). Deprecated since version 0.11.0.\n",
      "java is now started automatically with default settings. To force initialisation early, run:\n",
      "pt.java.init() # optional, forces java initialisation\n",
      "  pt.init()\n"
     ]
    }
   ],
   "source": [
    "from tira.third_party_integrations import ensure_pyterrier_is_loaded\n",
    "from tira.rest_api_client import Client\n",
    "\n",
    "ensure_pyterrier_is_loaded()\n",
    "tira = Client()"
   ]
  },
  {
   "cell_type": "markdown",
   "metadata": {},
   "source": [
    "### Step 2: Load the dataset\n",
    "\n",
    "We load the dataset by its ir_datasets ID (as listed in the Readme). Just be sure to add the `irds:` prefix before the dataset ID to tell PyTerrier to load the data from ir_datasets."
   ]
  },
  {
   "cell_type": "code",
   "execution_count": 3,
   "metadata": {},
   "outputs": [],
   "source": [
    "from pyterrier import get_dataset\n",
    "\n",
    "pt_dataset = get_dataset('irds:ir-lab-wise-2024/subsampled-ms-marco-deep-learning-20241201-training')"
   ]
  },
  {
   "cell_type": "markdown",
   "metadata": {},
   "source": [
    "### Step 3: Build an index\n",
    "\n",
    "We will then create an index from the documents in the dataset we just loaded."
   ]
  },
  {
   "cell_type": "code",
   "execution_count": 4,
   "metadata": {},
   "outputs": [
    {
     "name": "stdout",
     "output_type": "stream",
     "text": [
      "Download from Zenodo: https://zenodo.org/records/14254044/files/subsampled-ms-marco-deep-learning-20241201-training-inputs.zip\n"
     ]
    },
    {
     "name": "stderr",
     "output_type": "stream",
     "text": [
      "Download: 100%|██████████| 9.51M/9.51M [00:01<00:00, 7.31MiB/s]\n"
     ]
    },
    {
     "name": "stdout",
     "output_type": "stream",
     "text": [
      "Download finished. Extract...\n",
      "Extraction finished:  /Users/till/.tira/extracted_datasets/ir-lab-wise-2024/subsampled-ms-marco-deep-learning-20241201-training/\n"
     ]
    },
    {
     "name": "stderr",
     "output_type": "stream",
     "text": [
      "ir-lab-wise-2024/subsampled-ms-marco-deep-learning-20241201-training documents:  38%|███▊      | 26034/68261 [00:04<00:05, 7602.78it/s]"
     ]
    },
    {
     "name": "stdout",
     "output_type": "stream",
     "text": [
      "08:27:07.440 [ForkJoinPool-1-worker-1] WARN org.terrier.structures.indexing.Indexer -- Adding an empty document to the index (6114613) - further warnings are suppressed\n"
     ]
    },
    {
     "name": "stderr",
     "output_type": "stream",
     "text": [
      "ir-lab-wise-2024/subsampled-ms-marco-deep-learning-20241201-training documents: 100%|██████████| 68261/68261 [00:08<00:00, 7605.01it/s] \n"
     ]
    },
    {
     "name": "stdout",
     "output_type": "stream",
     "text": [
      "08:27:12.966 [ForkJoinPool-1-worker-1] WARN org.terrier.structures.indexing.Indexer -- Indexed 1 empty documents\n"
     ]
    }
   ],
   "source": [
    "from pyterrier import IterDictIndexer\n",
    "\n",
    "indexer = IterDictIndexer(\n",
    "    # Store the index in the `index` directory.\n",
    "    \"../data/index\",\n",
    "    meta={'docno': 50, 'text': 4096},\n",
    "    # If an index already exists there, then overwrite it.\n",
    "    overwrite=True,\n",
    ")\n",
    "index = indexer.index(pt_dataset.get_corpus_iter())"
   ]
  },
  {
   "cell_type": "markdown",
   "metadata": {},
   "source": [
    "### Step 4: Define the retrieval pipeline\n",
    "\n",
    "We will define a simple retrieval pipeline using just BM25 as a baseline. For details, refer to the PyTerrier [documentation](https://pyterrier.readthedocs.io) or [tutorial](https://github.com/terrier-org/ecir2021tutorial)."
   ]
  },
  {
   "cell_type": "code",
   "execution_count": 5,
   "metadata": {},
   "outputs": [
    {
     "name": "stderr",
     "output_type": "stream",
     "text": [
      "/var/folders/2z/hftmcxnx6857z5y2jcyv934h0000gn/T/ipykernel_43600/3803264467.py:3: DeprecationWarning: Call to deprecated class BatchRetrieve. (use pt.terrier.Retriever() instead) -- Deprecated since version 0.11.0.\n",
      "  bm25 = BatchRetrieve(index, wmodel=\"BM25\")\n"
     ]
    }
   ],
   "source": [
    "from pyterrier import BatchRetrieve\n",
    "\n",
    "bm25 = BatchRetrieve(index, wmodel=\"BM25\")"
   ]
  },
  {
   "cell_type": "markdown",
   "metadata": {},
   "source": [
    "### Step 5: Create the run\n",
    "In the next steps, we would like to apply our retrieval system to some topics, to prepare a 'run' file, containing the retrieved documents."
   ]
  },
  {
   "cell_type": "markdown",
   "metadata": {},
   "source": [
    "First, let's have a short look at the first three topics:"
   ]
  },
  {
   "cell_type": "code",
   "execution_count": 6,
   "metadata": {},
   "outputs": [
    {
     "name": "stdout",
     "output_type": "stream",
     "text": [
      "Download from Zenodo: https://zenodo.org/records/14254044/files/subsampled-ms-marco-deep-learning-20241201-training-truths.zip\n"
     ]
    },
    {
     "name": "stderr",
     "output_type": "stream",
     "text": [
      "Download: 100%|██████████| 61.7k/61.7k [00:00<00:00, 807kiB/s]"
     ]
    },
    {
     "name": "stdout",
     "output_type": "stream",
     "text": [
      "Download finished. Extract...\n",
      "Extraction finished:  /Users/till/.tira/extracted_datasets/ir-lab-wise-2024/subsampled-ms-marco-deep-learning-20241201-training/\n"
     ]
    },
    {
     "name": "stderr",
     "output_type": "stream",
     "text": [
      "\n"
     ]
    },
    {
     "data": {
      "text/html": [
       "<div>\n",
       "<style scoped>\n",
       "    .dataframe tbody tr th:only-of-type {\n",
       "        vertical-align: middle;\n",
       "    }\n",
       "\n",
       "    .dataframe tbody tr th {\n",
       "        vertical-align: top;\n",
       "    }\n",
       "\n",
       "    .dataframe thead th {\n",
       "        text-align: right;\n",
       "    }\n",
       "</style>\n",
       "<table border=\"1\" class=\"dataframe\">\n",
       "  <thead>\n",
       "    <tr style=\"text-align: right;\">\n",
       "      <th></th>\n",
       "      <th>qid</th>\n",
       "      <th>query</th>\n",
       "    </tr>\n",
       "  </thead>\n",
       "  <tbody>\n",
       "    <tr>\n",
       "      <th>0</th>\n",
       "      <td>1030303</td>\n",
       "      <td>who is aziz hashim</td>\n",
       "    </tr>\n",
       "    <tr>\n",
       "      <th>1</th>\n",
       "      <td>1037496</td>\n",
       "      <td>who is rep scalise</td>\n",
       "    </tr>\n",
       "    <tr>\n",
       "      <th>2</th>\n",
       "      <td>1043135</td>\n",
       "      <td>who killed nicholas ii of russia</td>\n",
       "    </tr>\n",
       "    <tr>\n",
       "      <th>3</th>\n",
       "      <td>1051399</td>\n",
       "      <td>who sings monk theme song</td>\n",
       "    </tr>\n",
       "    <tr>\n",
       "      <th>4</th>\n",
       "      <td>1064670</td>\n",
       "      <td>why do hunters pattern their shotguns</td>\n",
       "    </tr>\n",
       "    <tr>\n",
       "      <th>...</th>\n",
       "      <td>...</td>\n",
       "      <td>...</td>\n",
       "    </tr>\n",
       "    <tr>\n",
       "      <th>92</th>\n",
       "      <td>405717</td>\n",
       "      <td>is cdg airport in main paris</td>\n",
       "    </tr>\n",
       "    <tr>\n",
       "      <th>93</th>\n",
       "      <td>182539</td>\n",
       "      <td>example of monotonic function</td>\n",
       "    </tr>\n",
       "    <tr>\n",
       "      <th>94</th>\n",
       "      <td>1113437</td>\n",
       "      <td>what is physical description of spruce</td>\n",
       "    </tr>\n",
       "    <tr>\n",
       "      <th>95</th>\n",
       "      <td>1129237</td>\n",
       "      <td>hydrogen is a liquid below what temperature</td>\n",
       "    </tr>\n",
       "    <tr>\n",
       "      <th>96</th>\n",
       "      <td>146187</td>\n",
       "      <td>difference between a mcdouble and a double che...</td>\n",
       "    </tr>\n",
       "  </tbody>\n",
       "</table>\n",
       "<p>97 rows × 2 columns</p>\n",
       "</div>"
      ],
      "text/plain": [
       "        qid                                              query\n",
       "0   1030303                                 who is aziz hashim\n",
       "1   1037496                                 who is rep scalise\n",
       "2   1043135                   who killed nicholas ii of russia\n",
       "3   1051399                          who sings monk theme song\n",
       "4   1064670              why do hunters pattern their shotguns\n",
       "..      ...                                                ...\n",
       "92   405717                       is cdg airport in main paris\n",
       "93   182539                      example of monotonic function\n",
       "94  1113437             what is physical description of spruce\n",
       "95  1129237        hydrogen is a liquid below what temperature\n",
       "96   146187  difference between a mcdouble and a double che...\n",
       "\n",
       "[97 rows x 2 columns]"
      ]
     },
     "execution_count": 6,
     "metadata": {},
     "output_type": "execute_result"
    }
   ],
   "source": [
    "# The `'text'` argument below selects the topics `text` field as the query.\n",
    "pt_dataset.get_topics('text')"
   ]
  },
  {
   "cell_type": "markdown",
   "metadata": {},
   "source": [
    "Now, retrieve results for all the topics (may take a while):"
   ]
  },
  {
   "cell_type": "code",
   "execution_count": 8,
   "metadata": {},
   "outputs": [],
   "source": [
    "run = bm25(pt_dataset.get_topics('text'))"
   ]
  },
  {
   "cell_type": "markdown",
   "metadata": {},
   "source": [
    "That's it for the retrieval. Here are the first 10 entries of the run:"
   ]
  },
  {
   "cell_type": "code",
   "execution_count": 9,
   "metadata": {},
   "outputs": [
    {
     "data": {
      "text/html": [
       "<div>\n",
       "<style scoped>\n",
       "    .dataframe tbody tr th:only-of-type {\n",
       "        vertical-align: middle;\n",
       "    }\n",
       "\n",
       "    .dataframe tbody tr th {\n",
       "        vertical-align: top;\n",
       "    }\n",
       "\n",
       "    .dataframe thead th {\n",
       "        text-align: right;\n",
       "    }\n",
       "</style>\n",
       "<table border=\"1\" class=\"dataframe\">\n",
       "  <thead>\n",
       "    <tr style=\"text-align: right;\">\n",
       "      <th></th>\n",
       "      <th>qid</th>\n",
       "      <th>docid</th>\n",
       "      <th>docno</th>\n",
       "      <th>rank</th>\n",
       "      <th>score</th>\n",
       "      <th>query</th>\n",
       "    </tr>\n",
       "  </thead>\n",
       "  <tbody>\n",
       "    <tr>\n",
       "      <th>0</th>\n",
       "      <td>1030303</td>\n",
       "      <td>53852</td>\n",
       "      <td>8726436</td>\n",
       "      <td>0</td>\n",
       "      <td>31.681671</td>\n",
       "      <td>who is aziz hashim</td>\n",
       "    </tr>\n",
       "    <tr>\n",
       "      <th>1</th>\n",
       "      <td>1030303</td>\n",
       "      <td>56041</td>\n",
       "      <td>8726433</td>\n",
       "      <td>1</td>\n",
       "      <td>25.966276</td>\n",
       "      <td>who is aziz hashim</td>\n",
       "    </tr>\n",
       "    <tr>\n",
       "      <th>2</th>\n",
       "      <td>1030303</td>\n",
       "      <td>62116</td>\n",
       "      <td>8726435</td>\n",
       "      <td>2</td>\n",
       "      <td>23.863442</td>\n",
       "      <td>who is aziz hashim</td>\n",
       "    </tr>\n",
       "    <tr>\n",
       "      <th>3</th>\n",
       "      <td>1030303</td>\n",
       "      <td>32183</td>\n",
       "      <td>8726429</td>\n",
       "      <td>3</td>\n",
       "      <td>23.391821</td>\n",
       "      <td>who is aziz hashim</td>\n",
       "    </tr>\n",
       "    <tr>\n",
       "      <th>4</th>\n",
       "      <td>1030303</td>\n",
       "      <td>35867</td>\n",
       "      <td>8726437</td>\n",
       "      <td>4</td>\n",
       "      <td>21.030669</td>\n",
       "      <td>who is aziz hashim</td>\n",
       "    </tr>\n",
       "    <tr>\n",
       "      <th>5</th>\n",
       "      <td>1030303</td>\n",
       "      <td>17637</td>\n",
       "      <td>8726430</td>\n",
       "      <td>5</td>\n",
       "      <td>19.967200</td>\n",
       "      <td>who is aziz hashim</td>\n",
       "    </tr>\n",
       "    <tr>\n",
       "      <th>6</th>\n",
       "      <td>1030303</td>\n",
       "      <td>42957</td>\n",
       "      <td>7156982</td>\n",
       "      <td>6</td>\n",
       "      <td>19.967200</td>\n",
       "      <td>who is aziz hashim</td>\n",
       "    </tr>\n",
       "    <tr>\n",
       "      <th>7</th>\n",
       "      <td>1030303</td>\n",
       "      <td>21803</td>\n",
       "      <td>8726434</td>\n",
       "      <td>7</td>\n",
       "      <td>19.474804</td>\n",
       "      <td>who is aziz hashim</td>\n",
       "    </tr>\n",
       "    <tr>\n",
       "      <th>8</th>\n",
       "      <td>1030303</td>\n",
       "      <td>59828</td>\n",
       "      <td>1305520</td>\n",
       "      <td>8</td>\n",
       "      <td>17.849161</td>\n",
       "      <td>who is aziz hashim</td>\n",
       "    </tr>\n",
       "    <tr>\n",
       "      <th>9</th>\n",
       "      <td>1030303</td>\n",
       "      <td>60002</td>\n",
       "      <td>3302257</td>\n",
       "      <td>9</td>\n",
       "      <td>17.832781</td>\n",
       "      <td>who is aziz hashim</td>\n",
       "    </tr>\n",
       "  </tbody>\n",
       "</table>\n",
       "</div>"
      ],
      "text/plain": [
       "       qid  docid    docno  rank      score               query\n",
       "0  1030303  53852  8726436     0  31.681671  who is aziz hashim\n",
       "1  1030303  56041  8726433     1  25.966276  who is aziz hashim\n",
       "2  1030303  62116  8726435     2  23.863442  who is aziz hashim\n",
       "3  1030303  32183  8726429     3  23.391821  who is aziz hashim\n",
       "4  1030303  35867  8726437     4  21.030669  who is aziz hashim\n",
       "5  1030303  17637  8726430     5  19.967200  who is aziz hashim\n",
       "6  1030303  42957  7156982     6  19.967200  who is aziz hashim\n",
       "7  1030303  21803  8726434     7  19.474804  who is aziz hashim\n",
       "8  1030303  59828  1305520     8  17.849161  who is aziz hashim\n",
       "9  1030303  60002  3302257     9  17.832781  who is aziz hashim"
      ]
     },
     "execution_count": 9,
     "metadata": {},
     "output_type": "execute_result"
    }
   ],
   "source": [
    "run.head(10)"
   ]
  },
  {
   "cell_type": "markdown",
   "metadata": {},
   "source": [
    "### Step 6: Persist and upload run to TIRA\n",
    "\n",
    "The output of our retrieval system is a run file. This run file can later (and, e.g., in a different notebook or by a different person) be statistically evaluated. We will therefore first upload the run to TIRA."
   ]
  },
  {
   "cell_type": "code",
   "execution_count": 10,
   "metadata": {},
   "outputs": [
    {
     "name": "stdout",
     "output_type": "stream",
     "text": [
      "The run file is normalized outside the TIRA sandbox, I will store it at \"../data/runs\".\n",
      "Done. run file is stored under \"../data/runs/run.txt.gz\".\n",
      "Run uploaded to TIRA. Claim ownership via: https://www.tira.io/claim-submission/cb11d8af-4ca2-49de-bdfa-6ab8a83b1c1d\n"
     ]
    }
   ],
   "source": [
    "from tira.third_party_integrations import persist_and_normalize_run\n",
    "\n",
    "persist_and_normalize_run(\n",
    "    run,\n",
    "    # Give your approach a short but descriptive name tag.\n",
    "    system_name='bm25-baseline', \n",
    "    default_output='../data/runs',\n",
    "    upload_to_tira=pt_dataset,\n",
    ")"
   ]
  },
  {
   "cell_type": "markdown",
   "metadata": {},
   "source": [
    "Click on the link in the cell output above to claim your submission on TIRA."
   ]
  },
  {
   "cell_type": "markdown",
   "metadata": {},
   "source": [
    "# Step 7: Improve\n",
    "\n",
    "Building your own index can be already one way that you can try to improve upon this baseline (if you want to focus on creating good document representations). Other ways could include reformulating queries or tuning parameters or building better retrieval pipelines."
   ]
  },
  {
   "cell_type": "markdown",
   "metadata": {},
   "source": [
    "Ideen:\n",
    "- Lemmatisierung/Stemming andere austesten\n",
    "- Textembeddings (Transformer): Bi-Encoder\n",
    "- Reranking (Top10 in LLM reingeben): monoT5 (das hier machen)\n",
    "- Hyperparameter-Tuning: BM25 Parameter (b, k1, k2) anpassen (Grid-Search)\n",
    "- Query-Pipeline anpassen (Stoppwörter ergänzen/austauschen, usw.) + Query Expansion: Synonyme zur Query hinzufügen\n",
    "- Document Expansion: doc2query\n",
    "- verschiedene Retrieval Ansätze verknüpfen: Learning-to-Rank"
   ]
  },
  {
   "cell_type": "code",
   "execution_count": 7,
   "metadata": {},
   "outputs": [
    {
     "name": "stderr",
     "output_type": "stream",
     "text": [
      "/opt/homebrew/Caskroom/miniconda/base/envs/ir/lib/python3.10/site-packages/tqdm/auto.py:21: TqdmWarning: IProgress not found. Please update jupyter and ipywidgets. See https://ipywidgets.readthedocs.io/en/stable/user_install.html\n",
      "  from .autonotebook import tqdm as notebook_tqdm\n",
      "You are using the default legacy behaviour of the <class 'transformers.models.t5.tokenization_t5.T5Tokenizer'>. This is expected, and simply means that the `legacy` (previous) behavior will be used so nothing changes for you. If you want to use the new behaviour, set `legacy=False`. This should only be set if you understand what it means, and thoroughly read the reason why this was added as explained in https://github.com/huggingface/transformers/pull/24565\n"
     ]
    }
   ],
   "source": [
    "import pyterrier as pt\n",
    "from pyterrier_t5 import MonoT5ReRanker, DuoT5ReRanker\n",
    "monoT5 = MonoT5ReRanker()\n",
    "duoT5 = DuoT5ReRanker()"
   ]
  },
  {
   "cell_type": "code",
   "execution_count": 8,
   "metadata": {},
   "outputs": [],
   "source": [
    "mono_pipeline = bm25 % 100 >> pt.text.get_text(pt_dataset, \"text\") >> monoT5\n",
    "duo_pipeline = mono_pipeline % 10 >> duoT5"
   ]
  },
  {
   "cell_type": "code",
   "execution_count": null,
   "metadata": {},
   "outputs": [
    {
     "name": "stderr",
     "output_type": "stream",
     "text": [
      "monoT5:   0%|          | 0/25 [00:00<?, ?batches/s]Passing a tuple of `past_key_values` is deprecated and will be removed in Transformers v4.48.0. You should pass an instance of `EncoderDecoderCache` instead, e.g. `past_key_values=EncoderDecoderCache.from_legacy_cache(past_key_values)`.\n",
      "monoT5: 100%|██████████| 25/25 [00:14<00:00,  1.68batches/s]\n",
      "monoT5: 100%|██████████| 25/25 [00:14<00:00,  1.75batches/s]\n",
      "duoT5: 100%|██████████| 1/1 [00:25<00:00, 25.95s/queries]\n"
     ]
    },
    {
     "data": {
      "text/html": [
       "<div>\n",
       "<style scoped>\n",
       "    .dataframe tbody tr th:only-of-type {\n",
       "        vertical-align: middle;\n",
       "    }\n",
       "\n",
       "    .dataframe tbody tr th {\n",
       "        vertical-align: top;\n",
       "    }\n",
       "\n",
       "    .dataframe thead th {\n",
       "        text-align: right;\n",
       "    }\n",
       "</style>\n",
       "<table border=\"1\" class=\"dataframe\">\n",
       "  <thead>\n",
       "    <tr style=\"text-align: right;\">\n",
       "      <th></th>\n",
       "      <th>name</th>\n",
       "      <th>ndcg_cut_10</th>\n",
       "    </tr>\n",
       "  </thead>\n",
       "  <tbody>\n",
       "    <tr>\n",
       "      <th>0</th>\n",
       "      <td>BM25</td>\n",
       "      <td>0.873</td>\n",
       "    </tr>\n",
       "    <tr>\n",
       "      <th>1</th>\n",
       "      <td>monoT5</td>\n",
       "      <td>0.627</td>\n",
       "    </tr>\n",
       "    <tr>\n",
       "      <th>2</th>\n",
       "      <td>duoT5</td>\n",
       "      <td>0.758</td>\n",
       "    </tr>\n",
       "  </tbody>\n",
       "</table>\n",
       "</div>"
      ],
      "text/plain": [
       "     name  ndcg_cut_10\n",
       "0    BM25        0.873\n",
       "1  monoT5        0.627\n",
       "2   duoT5        0.758"
      ]
     },
     "execution_count": 9,
     "metadata": {},
     "output_type": "execute_result"
    }
   ],
   "source": [
    "# Experiment\n",
    "from pyterrier import Experiment\n",
    "# Anzahl der Topics\n",
    "first_x_topics = 1\n",
    "\n",
    "Experiment(\n",
    "    [bm25, mono_pipeline, duo_pipeline],\n",
    "    topics = pt_dataset.get_topics('text').head(first_x_topics),\n",
    "    qrels = pt_dataset.get_qrels(),\n",
    "    eval_metrics =['ndcg_cut_10'],\n",
    "    names=[\"BM25\", \"monoT5\", \"duoT5\"],\n",
    "    round = 3\n",
    ")"
   ]
  },
  {
   "cell_type": "markdown",
   "metadata": {},
   "source": [
    "# Caching"
   ]
  },
  {
   "cell_type": "code",
   "execution_count": 34,
   "metadata": {},
   "outputs": [
    {
     "name": "stdout",
     "output_type": "stream",
     "text": [
      "Sqlite3ScorerCache('monoT5.cache', (<pyterrier.datasets.IRDSTextLoader object at 0x33047da20> >> MonoT5(castorini/monot5-base-msmarco)), group='query', key='docno'): 37627 hit(s), 0 miss(es)\n",
      "Sqlite3ScorerCache('monoT5.cache', (<pyterrier.datasets.IRDSTextLoader object at 0x33047da20> >> MonoT5(castorini/monot5-base-msmarco)), group='query', key='docno'): 37627 hit(s), 0 miss(es)\n",
      "Sqlite3ScorerCache('duoT5.cache', (<pyterrier.datasets.IRDSTextLoader object at 0x1479fb8b0> >> DuoT5(castorini/duot5-base-msmarco)), group='query', key='docno'): 965 hit(s), 0 miss(es)\n"
     ]
    }
   ],
   "source": [
    "from pyterrier_caching import SparseScorerCache\n",
    "\n",
    "first_x_topics = 100\n",
    "\n",
    "# (bm25 % 100) damit nur die ersten 100 Dokumente genommen werden\n",
    "inp = (bm25 % 400).transform(pt_dataset.get_topics('text').head(first_x_topics)) # BM25 auf den ersten x Topics anwenden. Dabei cutoff von 100 Dokumenten\n",
    "mono2 = pt.text.get_text(pt_dataset, \"text\") >> monoT5 # Pipeline für MonoT5\n",
    "mono_cached = SparseScorerCache('monoT5.cache', mono2, verbose=True) # Caching für MonoT5\n",
    "duo2 = pt.text.get_text(pt_dataset, \"text\") >> duoT5 # Pipeline für DuoT5\n",
    "duo_cached = SparseScorerCache('duoT5.cache', duo2, verbose=True) # Caching für DuoT5\n",
    "\n",
    "mono_results = mono_cached.transform(inp) # MonoT5 wird auf die Ergebnisse von BM25 angewendet\n",
    "mono_results_10 = (mono_cached % 10).transform(inp) # Nur die Top10 Dokumente, damit der Input zu DuoT5 gegeben werden kann\n",
    "\n",
    "duo_results = duo_cached.transform(mono_results_10) # DuoT5 wird auf die Ergebnisse von MonoT5 angewendet"
   ]
  },
  {
   "cell_type": "code",
   "execution_count": 35,
   "metadata": {},
   "outputs": [
    {
     "data": {
      "text/html": [
       "<div>\n",
       "<style scoped>\n",
       "    .dataframe tbody tr th:only-of-type {\n",
       "        vertical-align: middle;\n",
       "    }\n",
       "\n",
       "    .dataframe tbody tr th {\n",
       "        vertical-align: top;\n",
       "    }\n",
       "\n",
       "    .dataframe thead th {\n",
       "        text-align: right;\n",
       "    }\n",
       "</style>\n",
       "<table border=\"1\" class=\"dataframe\">\n",
       "  <thead>\n",
       "    <tr style=\"text-align: right;\">\n",
       "      <th></th>\n",
       "      <th>name</th>\n",
       "      <th>ndcg_cut_10</th>\n",
       "    </tr>\n",
       "  </thead>\n",
       "  <tbody>\n",
       "    <tr>\n",
       "      <th>0</th>\n",
       "      <td>BM25</td>\n",
       "      <td>0.489</td>\n",
       "    </tr>\n",
       "    <tr>\n",
       "      <th>1</th>\n",
       "      <td>monoT5</td>\n",
       "      <td>0.724</td>\n",
       "    </tr>\n",
       "    <tr>\n",
       "      <th>2</th>\n",
       "      <td>duoT5</td>\n",
       "      <td>0.728</td>\n",
       "    </tr>\n",
       "  </tbody>\n",
       "</table>\n",
       "</div>"
      ],
      "text/plain": [
       "     name  ndcg_cut_10\n",
       "0    BM25        0.489\n",
       "1  monoT5        0.724\n",
       "2   duoT5        0.728"
      ]
     },
     "execution_count": 35,
     "metadata": {},
     "output_type": "execute_result"
    }
   ],
   "source": [
    "# Experiment wird ausgeführt mit den berechneten DataFrames\n",
    "Experiment(\n",
    "    [bm25, mono_results, duo_results],\n",
    "    topics = pt_dataset.get_topics('text').head(first_x_topics),\n",
    "    qrels = pt_dataset.get_qrels(),\n",
    "    eval_metrics =['ndcg_cut_10'],\n",
    "    names=[\"BM25\", \"monoT5\", \"duoT5\"],\n",
    "    round = 3\n",
    ")"
   ]
  }
 ],
 "metadata": {
  "kernelspec": {
   "display_name": "ir",
   "language": "python",
   "name": "python3"
  },
  "language_info": {
   "codemirror_mode": {
    "name": "ipython",
    "version": 3
   },
   "file_extension": ".py",
   "mimetype": "text/x-python",
   "name": "python",
   "nbconvert_exporter": "python",
   "pygments_lexer": "ipython3",
   "version": "3.10.15"
  }
 },
 "nbformat": 4,
 "nbformat_minor": 2
}
